{
 "cells": [
  {
   "cell_type": "markdown",
   "id": "3a3c40c1",
   "metadata": {},
   "source": [
    "## Using scMulan to annotate cell types in Heart, Lung, Liver, Bone marrow, Blood, Brain, and Thymus"
   ]
  },
  {
   "cell_type": "markdown",
   "id": "e48c7b16",
   "metadata": {},
   "source": [
    "#### we provide a liver dataset sampled (percentage of 20%) from Suo C, 2022 (doi/10.1126/science.abo0510)\n",
    "you can download the sampled dataset for this tutorial from: https://cloud.tsinghua.edu.cn/f/45a7fd2a27e543539f59/?dl=1  \n",
    "ckpt could be downloaded from: https://cloud.tsinghua.edu.cn/f/2250c5df51034b2e9a85/?dl=1"
   ]
  },
  {
   "cell_type": "code",
   "execution_count": 1,
   "id": "d55a1e88",
   "metadata": {},
   "outputs": [],
   "source": [
    "import os\n",
    "os.environ[\"CUDA_VISIBLE_DEVICES\"] = \"0,1,2,3\" ## set your available devices, each use ~2G GPU-MEMORY\n",
    "#os.environ[\"CUDA_VISIBLE_DEVICES\"] = \"-1\" # if use CPU only\n",
    "import scanpy as sc\n",
    "\n",
    "import scMulan\n",
    "from scMulan import GeneSymbolUniform"
   ]
  },
  {
   "cell_type": "markdown",
   "id": "c9d3ab7c",
   "metadata": {},
   "source": [
    "## 1. load h5ad\n",
    "It's recommended that you use h5ad here with raw count (and after your QC)"
   ]
  },
  {
   "cell_type": "code",
   "execution_count": 2,
   "id": "f8eedd52",
   "metadata": {},
   "outputs": [],
   "source": [
    "adata = sc.read('Data/100_per_sample.h5ad')"
   ]
  },
  {
   "cell_type": "code",
   "execution_count": 3,
   "id": "537c25b3",
   "metadata": {},
   "outputs": [
    {
     "data": {
      "text/plain": [
       "AnnData object with n_obs × n_vars = 60345 × 2000\n",
       "    obs: 'biosample_id', 'donor_id', 'disease', 'sex', 'age', 'cell_type', 'sub_cluster', 'cellbender_ncount', 'cellbender_ngenes', 'cellranger_percent_mito', 'exon_prop', 'cellbender_entropy', 'cellranger_doublet_scores'\n",
       "    uns: 'log1p'"
      ]
     },
     "execution_count": 3,
     "metadata": {},
     "output_type": "execute_result"
    }
   ],
   "source": [
    "adata"
   ]
  },
  {
   "cell_type": "markdown",
   "id": "15868d6c",
   "metadata": {},
   "source": [
    "## 2. transform original h5ad with uniformed genes (42117 genes)"
   ]
  },
  {
   "cell_type": "markdown",
   "id": "c84fdf79",
   "metadata": {},
   "source": [
    "This step transform the genes in input adata to 42117 gene symbols and reserves the corresponding gene expression values."
   ]
  },
  {
   "cell_type": "code",
   "execution_count": 37,
   "id": "679167da",
   "metadata": {},
   "outputs": [
    {
     "name": "stdout",
     "output_type": "stream",
     "text": [
      "The shape of query data is: (60345, 36601)\n",
      "The length of reference gene_list is: 42117\n",
      "Performing gene symbol uniform, this step may take several minutes\n"
     ]
    },
    {
     "name": "stderr",
     "output_type": "stream",
     "text": [
      "Processing: 100%|██████████████████████████████████████| 36601/36601 [00:43<00:00, 845.44it/s]"
     ]
    },
    {
     "name": "stdout",
     "output_type": "stream",
     "text": [
      "Building output data, this step may take several minutes\n"
     ]
    },
    {
     "name": "stderr",
     "output_type": "stream",
     "text": [
      "\n",
      "Processing: 100%|█████████████████████████████████████| 24024/24024 [00:04<00:00, 5114.35it/s]\n"
     ]
    },
    {
     "name": "stdout",
     "output_type": "stream",
     "text": [
      "Shape of output data is (60345, 42117). It should have 42117 genes with cell number unchanged.\n",
      "h5ad file saved in:/Users/danrongli/Desktop/use_scMulan/scMulan/Data/simonson_ready_for_jupyter_uniformed.h5ad\n",
      "report file saved in: /Users/danrongli/Desktop/use_scMulan/scMulan/Data/simonson_ready_for_jupyter_report.csv\n"
     ]
    }
   ],
   "source": [
    "adata_GS_uniformed = GeneSymbolUniform(input_adata=adata,\n",
    "                                 output_dir=\"Data/\",\n",
    "                                 output_prefix='simonson_ready_for_jupyter')"
   ]
  },
  {
   "cell_type": "markdown",
   "id": "46a80cf8",
   "metadata": {},
   "source": [
    "## 3. process uniformed data (simply norm and log1p)"
   ]
  },
  {
   "cell_type": "code",
   "execution_count": 5,
   "id": "4cb8f1e6",
   "metadata": {},
   "outputs": [],
   "source": [
    "## you can read the saved uniformed adata\n",
    "\n",
    "#adata_GS_uniformed=sc.read_h5ad('Data/liver_uniformed.h5ad')"
   ]
  },
  {
   "cell_type": "code",
   "execution_count": 38,
   "id": "b52a9c1a",
   "metadata": {},
   "outputs": [
    {
     "data": {
      "text/plain": [
       "AnnData object with n_obs × n_vars = 60345 × 42117\n",
       "    obs: 'biosample_id', 'donor_id', 'disease', 'sex', 'age', 'cell_type', 'sub_cluster', 'cellbender_ncount', 'cellbender_ngenes', 'cellranger_percent_mito', 'exon_prop', 'cellbender_entropy', 'cellranger_doublet_scores'"
      ]
     },
     "execution_count": 38,
     "metadata": {},
     "output_type": "execute_result"
    }
   ],
   "source": [
    "sc.read_h5ad('Data/simonson_ready_for_jupyter_uniformed.h5ad')"
   ]
  },
  {
   "cell_type": "code",
   "execution_count": 39,
   "id": "f1fb43b5",
   "metadata": {},
   "outputs": [
    {
     "data": {
      "text/plain": [
       "AnnData object with n_obs × n_vars = 60345 × 42117\n",
       "    obs: 'biosample_id', 'donor_id', 'disease', 'sex', 'age', 'cell_type', 'sub_cluster', 'cellbender_ncount', 'cellbender_ngenes', 'cellranger_percent_mito', 'exon_prop', 'cellbender_entropy', 'cellranger_doublet_scores'"
      ]
     },
     "execution_count": 39,
     "metadata": {},
     "output_type": "execute_result"
    }
   ],
   "source": [
    "adata_GS_uniformed"
   ]
  },
  {
   "cell_type": "code",
   "execution_count": 40,
   "id": "dfeb0ff7",
   "metadata": {},
   "outputs": [
    {
     "name": "stdout",
     "output_type": "stream",
     "text": [
      "here\n"
     ]
    }
   ],
   "source": [
    "# norm and log1p count matrix\n",
    "if adata_GS_uniformed.X.max() > 10:\n",
    "    print(\"here\")\n",
    "    sc.pp.normalize_total(adata_GS_uniformed, target_sum=1e4) \n",
    "    sc.pp.log1p(adata_GS_uniformed)"
   ]
  },
  {
   "cell_type": "code",
   "execution_count": 41,
   "id": "f3381c56",
   "metadata": {},
   "outputs": [
    {
     "data": {
      "text/plain": [
       "<60345x42117 sparse matrix of type '<class 'numpy.float32'>'\n",
       "\twith 51383020 stored elements in Compressed Sparse Row format>"
      ]
     },
     "execution_count": 41,
     "metadata": {},
     "output_type": "execute_result"
    }
   ],
   "source": [
    "adata_GS_uniformed.X"
   ]
  },
  {
   "cell_type": "code",
   "execution_count": 42,
   "id": "3e13577d",
   "metadata": {},
   "outputs": [
    {
     "data": {
      "text/plain": [
       "Index(['A1BG', 'A1BG-AS1', 'A1CF', 'A2M', 'A2M-AS1', 'A2ML1', 'A2ML1-AS1',\n",
       "       'A2ML1-AS2', 'A2MP1', 'A3GALT2',\n",
       "       ...\n",
       "       'ZXDA', 'ZXDB', 'ZXDC', 'ZYG11A', 'ZYG11AP1', 'ZYG11B', 'ZYX', 'ZYXP1',\n",
       "       'ZZEF1', 'ZZZ3'],\n",
       "      dtype='object', length=42117)"
      ]
     },
     "execution_count": 42,
     "metadata": {},
     "output_type": "execute_result"
    }
   ],
   "source": [
    "adata_GS_uniformed.var_names"
   ]
  },
  {
   "cell_type": "code",
   "execution_count": 43,
   "id": "96feb4ac",
   "metadata": {},
   "outputs": [
    {
     "data": {
      "text/plain": [
       "Index(['ACCAACAAGGGTTTCT-1-1', 'ATTCACTTCCCGAGGT-1-1', 'ATGCATGCACGCTTAA-1-1',\n",
       "       'CAACCTCTCAGACCCG-1-1', 'CTCCCAAGTTCGTAAC-1-1', 'TTCGCTGGTACTAGCT-1-1',\n",
       "       'TACCTGCTCCTTCTTC-1-1', 'TAACGACAGTCTTGGT-1-1', 'TATTCCAGTCTCCTGT-1-1',\n",
       "       'TCACTATTCTGGGCAC-1-1',\n",
       "       ...\n",
       "       'CATGGTATCTTTGATC-1-14', 'TCGACGGGTCAAATCC-1-14',\n",
       "       'GGCTTGGGTGCAATGG-1-14', 'TCGGTCTCACTGATTG-1-14',\n",
       "       'CCTTGTGTCGGAATTC-1-14', 'TCGTAGACACACTTAG-1-14',\n",
       "       'TGAATGCTCATGCCAA-1-14', 'GTGGAGATCGGCTGAC-1-14',\n",
       "       'TGAGTCAGTGGGCTCT-1-14', 'GTGGAGAAGAAATTGC-1-14'],\n",
       "      dtype='object', length=60345)"
      ]
     },
     "execution_count": 43,
     "metadata": {},
     "output_type": "execute_result"
    }
   ],
   "source": [
    "adata_GS_uniformed.obs_names"
   ]
  },
  {
   "cell_type": "code",
   "execution_count": 44,
   "id": "56a88876",
   "metadata": {},
   "outputs": [
    {
     "data": {
      "text/html": [
       "<div>\n",
       "<style scoped>\n",
       "    .dataframe tbody tr th:only-of-type {\n",
       "        vertical-align: middle;\n",
       "    }\n",
       "\n",
       "    .dataframe tbody tr th {\n",
       "        vertical-align: top;\n",
       "    }\n",
       "\n",
       "    .dataframe thead th {\n",
       "        text-align: right;\n",
       "    }\n",
       "</style>\n",
       "<table border=\"1\" class=\"dataframe\">\n",
       "  <thead>\n",
       "    <tr style=\"text-align: right;\">\n",
       "      <th></th>\n",
       "      <th>biosample_id</th>\n",
       "      <th>donor_id</th>\n",
       "      <th>disease</th>\n",
       "      <th>sex</th>\n",
       "      <th>age</th>\n",
       "      <th>cell_type</th>\n",
       "      <th>sub_cluster</th>\n",
       "      <th>cellbender_ncount</th>\n",
       "      <th>cellbender_ngenes</th>\n",
       "      <th>cellranger_percent_mito</th>\n",
       "      <th>exon_prop</th>\n",
       "      <th>cellbender_entropy</th>\n",
       "      <th>cellranger_doublet_scores</th>\n",
       "    </tr>\n",
       "  </thead>\n",
       "  <tbody>\n",
       "    <tr>\n",
       "      <th>ACCAACAAGGGTTTCT-1-1</th>\n",
       "      <td>1452</td>\n",
       "      <td>P1452</td>\n",
       "      <td>NF</td>\n",
       "      <td>female</td>\n",
       "      <td>47</td>\n",
       "      <td>Cardiomyocyte cell</td>\n",
       "      <td>NA</td>\n",
       "      <td>9883.0</td>\n",
       "      <td>3484</td>\n",
       "      <td>0.000390</td>\n",
       "      <td>0.068495</td>\n",
       "      <td>7.625137</td>\n",
       "      <td>0.050334</td>\n",
       "    </tr>\n",
       "    <tr>\n",
       "      <th>ATTCACTTCCCGAGGT-1-1</th>\n",
       "      <td>1452</td>\n",
       "      <td>P1452</td>\n",
       "      <td>NF</td>\n",
       "      <td>female</td>\n",
       "      <td>47</td>\n",
       "      <td>Cardiomyocyte cell</td>\n",
       "      <td>NA</td>\n",
       "      <td>9817.0</td>\n",
       "      <td>3556</td>\n",
       "      <td>0.000587</td>\n",
       "      <td>0.115108</td>\n",
       "      <td>7.490208</td>\n",
       "      <td>0.075205</td>\n",
       "    </tr>\n",
       "    <tr>\n",
       "      <th>ATGCATGCACGCTTAA-1-1</th>\n",
       "      <td>1452</td>\n",
       "      <td>P1452</td>\n",
       "      <td>NF</td>\n",
       "      <td>female</td>\n",
       "      <td>47</td>\n",
       "      <td>Cardiomyocyte cell</td>\n",
       "      <td>NA</td>\n",
       "      <td>9877.0</td>\n",
       "      <td>3675</td>\n",
       "      <td>0.000294</td>\n",
       "      <td>0.113345</td>\n",
       "      <td>7.610279</td>\n",
       "      <td>0.096886</td>\n",
       "    </tr>\n",
       "    <tr>\n",
       "      <th>CAACCTCTCAGACCCG-1-1</th>\n",
       "      <td>1452</td>\n",
       "      <td>P1452</td>\n",
       "      <td>NF</td>\n",
       "      <td>female</td>\n",
       "      <td>47</td>\n",
       "      <td>Cardiomyocyte cell</td>\n",
       "      <td>NA</td>\n",
       "      <td>9824.0</td>\n",
       "      <td>3500</td>\n",
       "      <td>0.000295</td>\n",
       "      <td>0.111798</td>\n",
       "      <td>7.559907</td>\n",
       "      <td>0.101604</td>\n",
       "    </tr>\n",
       "    <tr>\n",
       "      <th>CTCCCAAGTTCGTAAC-1-1</th>\n",
       "      <td>1452</td>\n",
       "      <td>P1452</td>\n",
       "      <td>NF</td>\n",
       "      <td>female</td>\n",
       "      <td>47</td>\n",
       "      <td>Cardiomyocyte cell</td>\n",
       "      <td>NA</td>\n",
       "      <td>9759.0</td>\n",
       "      <td>3675</td>\n",
       "      <td>0.000495</td>\n",
       "      <td>0.115510</td>\n",
       "      <td>7.585167</td>\n",
       "      <td>0.157263</td>\n",
       "    </tr>\n",
       "    <tr>\n",
       "      <th>...</th>\n",
       "      <td>...</td>\n",
       "      <td>...</td>\n",
       "      <td>...</td>\n",
       "      <td>...</td>\n",
       "      <td>...</td>\n",
       "      <td>...</td>\n",
       "      <td>...</td>\n",
       "      <td>...</td>\n",
       "      <td>...</td>\n",
       "      <td>...</td>\n",
       "      <td>...</td>\n",
       "      <td>...</td>\n",
       "      <td>...</td>\n",
       "    </tr>\n",
       "    <tr>\n",
       "      <th>TCGTAGACACACTTAG-1-14</th>\n",
       "      <td>1801</td>\n",
       "      <td>P1801</td>\n",
       "      <td>NF</td>\n",
       "      <td>male</td>\n",
       "      <td>42</td>\n",
       "      <td>Capillary endothelial cell</td>\n",
       "      <td>EC-General capillary</td>\n",
       "      <td>317.0</td>\n",
       "      <td>271</td>\n",
       "      <td>0.012719</td>\n",
       "      <td>0.096614</td>\n",
       "      <td>7.325364</td>\n",
       "      <td>0.013812</td>\n",
       "    </tr>\n",
       "    <tr>\n",
       "      <th>TGAATGCTCATGCCAA-1-14</th>\n",
       "      <td>1801</td>\n",
       "      <td>P1801</td>\n",
       "      <td>NF</td>\n",
       "      <td>male</td>\n",
       "      <td>42</td>\n",
       "      <td>Pericyte</td>\n",
       "      <td>NA</td>\n",
       "      <td>399.0</td>\n",
       "      <td>347</td>\n",
       "      <td>0.003268</td>\n",
       "      <td>0.113017</td>\n",
       "      <td>7.674779</td>\n",
       "      <td>0.016770</td>\n",
       "    </tr>\n",
       "    <tr>\n",
       "      <th>GTGGAGATCGGCTGAC-1-14</th>\n",
       "      <td>1801</td>\n",
       "      <td>P1801</td>\n",
       "      <td>NF</td>\n",
       "      <td>male</td>\n",
       "      <td>42</td>\n",
       "      <td>Lymphoid cell</td>\n",
       "      <td>NA</td>\n",
       "      <td>231.0</td>\n",
       "      <td>203</td>\n",
       "      <td>0.003273</td>\n",
       "      <td>0.116838</td>\n",
       "      <td>7.207568</td>\n",
       "      <td>0.076133</td>\n",
       "    </tr>\n",
       "    <tr>\n",
       "      <th>TGAGTCAGTGGGCTCT-1-14</th>\n",
       "      <td>1801</td>\n",
       "      <td>P1801</td>\n",
       "      <td>NF</td>\n",
       "      <td>male</td>\n",
       "      <td>42</td>\n",
       "      <td>Macrophage</td>\n",
       "      <td>NA</td>\n",
       "      <td>263.0</td>\n",
       "      <td>238</td>\n",
       "      <td>0.038321</td>\n",
       "      <td>0.184397</td>\n",
       "      <td>7.599493</td>\n",
       "      <td>0.193600</td>\n",
       "    </tr>\n",
       "    <tr>\n",
       "      <th>GTGGAGAAGAAATTGC-1-14</th>\n",
       "      <td>1801</td>\n",
       "      <td>P1801</td>\n",
       "      <td>NF</td>\n",
       "      <td>male</td>\n",
       "      <td>42</td>\n",
       "      <td>Capillary endothelial cell</td>\n",
       "      <td>EC-General capillary</td>\n",
       "      <td>290.0</td>\n",
       "      <td>268</td>\n",
       "      <td>0.011029</td>\n",
       "      <td>0.133085</td>\n",
       "      <td>7.946843</td>\n",
       "      <td>0.054676</td>\n",
       "    </tr>\n",
       "  </tbody>\n",
       "</table>\n",
       "<p>60345 rows × 13 columns</p>\n",
       "</div>"
      ],
      "text/plain": [
       "                      biosample_id donor_id disease     sex  age  \\\n",
       "ACCAACAAGGGTTTCT-1-1          1452    P1452      NF  female   47   \n",
       "ATTCACTTCCCGAGGT-1-1          1452    P1452      NF  female   47   \n",
       "ATGCATGCACGCTTAA-1-1          1452    P1452      NF  female   47   \n",
       "CAACCTCTCAGACCCG-1-1          1452    P1452      NF  female   47   \n",
       "CTCCCAAGTTCGTAAC-1-1          1452    P1452      NF  female   47   \n",
       "...                            ...      ...     ...     ...  ...   \n",
       "TCGTAGACACACTTAG-1-14         1801    P1801      NF    male   42   \n",
       "TGAATGCTCATGCCAA-1-14         1801    P1801      NF    male   42   \n",
       "GTGGAGATCGGCTGAC-1-14         1801    P1801      NF    male   42   \n",
       "TGAGTCAGTGGGCTCT-1-14         1801    P1801      NF    male   42   \n",
       "GTGGAGAAGAAATTGC-1-14         1801    P1801      NF    male   42   \n",
       "\n",
       "                                        cell_type           sub_cluster  \\\n",
       "ACCAACAAGGGTTTCT-1-1           Cardiomyocyte cell                    NA   \n",
       "ATTCACTTCCCGAGGT-1-1           Cardiomyocyte cell                    NA   \n",
       "ATGCATGCACGCTTAA-1-1           Cardiomyocyte cell                    NA   \n",
       "CAACCTCTCAGACCCG-1-1           Cardiomyocyte cell                    NA   \n",
       "CTCCCAAGTTCGTAAC-1-1           Cardiomyocyte cell                    NA   \n",
       "...                                           ...                   ...   \n",
       "TCGTAGACACACTTAG-1-14  Capillary endothelial cell  EC-General capillary   \n",
       "TGAATGCTCATGCCAA-1-14                    Pericyte                    NA   \n",
       "GTGGAGATCGGCTGAC-1-14               Lymphoid cell                    NA   \n",
       "TGAGTCAGTGGGCTCT-1-14                  Macrophage                    NA   \n",
       "GTGGAGAAGAAATTGC-1-14  Capillary endothelial cell  EC-General capillary   \n",
       "\n",
       "                       cellbender_ncount  cellbender_ngenes  \\\n",
       "ACCAACAAGGGTTTCT-1-1              9883.0               3484   \n",
       "ATTCACTTCCCGAGGT-1-1              9817.0               3556   \n",
       "ATGCATGCACGCTTAA-1-1              9877.0               3675   \n",
       "CAACCTCTCAGACCCG-1-1              9824.0               3500   \n",
       "CTCCCAAGTTCGTAAC-1-1              9759.0               3675   \n",
       "...                                  ...                ...   \n",
       "TCGTAGACACACTTAG-1-14              317.0                271   \n",
       "TGAATGCTCATGCCAA-1-14              399.0                347   \n",
       "GTGGAGATCGGCTGAC-1-14              231.0                203   \n",
       "TGAGTCAGTGGGCTCT-1-14              263.0                238   \n",
       "GTGGAGAAGAAATTGC-1-14              290.0                268   \n",
       "\n",
       "                       cellranger_percent_mito  exon_prop  cellbender_entropy  \\\n",
       "ACCAACAAGGGTTTCT-1-1                  0.000390   0.068495            7.625137   \n",
       "ATTCACTTCCCGAGGT-1-1                  0.000587   0.115108            7.490208   \n",
       "ATGCATGCACGCTTAA-1-1                  0.000294   0.113345            7.610279   \n",
       "CAACCTCTCAGACCCG-1-1                  0.000295   0.111798            7.559907   \n",
       "CTCCCAAGTTCGTAAC-1-1                  0.000495   0.115510            7.585167   \n",
       "...                                        ...        ...                 ...   \n",
       "TCGTAGACACACTTAG-1-14                 0.012719   0.096614            7.325364   \n",
       "TGAATGCTCATGCCAA-1-14                 0.003268   0.113017            7.674779   \n",
       "GTGGAGATCGGCTGAC-1-14                 0.003273   0.116838            7.207568   \n",
       "TGAGTCAGTGGGCTCT-1-14                 0.038321   0.184397            7.599493   \n",
       "GTGGAGAAGAAATTGC-1-14                 0.011029   0.133085            7.946843   \n",
       "\n",
       "                       cellranger_doublet_scores  \n",
       "ACCAACAAGGGTTTCT-1-1                    0.050334  \n",
       "ATTCACTTCCCGAGGT-1-1                    0.075205  \n",
       "ATGCATGCACGCTTAA-1-1                    0.096886  \n",
       "CAACCTCTCAGACCCG-1-1                    0.101604  \n",
       "CTCCCAAGTTCGTAAC-1-1                    0.157263  \n",
       "...                                          ...  \n",
       "TCGTAGACACACTTAG-1-14                   0.013812  \n",
       "TGAATGCTCATGCCAA-1-14                   0.016770  \n",
       "GTGGAGATCGGCTGAC-1-14                   0.076133  \n",
       "TGAGTCAGTGGGCTCT-1-14                   0.193600  \n",
       "GTGGAGAAGAAATTGC-1-14                   0.054676  \n",
       "\n",
       "[60345 rows x 13 columns]"
      ]
     },
     "execution_count": 44,
     "metadata": {},
     "output_type": "execute_result"
    }
   ],
   "source": [
    "adata_GS_uniformed.obs"
   ]
  },
  {
   "cell_type": "code",
   "execution_count": null,
   "id": "f011dc8f-46e4-4359-b76e-6439dec898b2",
   "metadata": {},
   "outputs": [],
   "source": []
  },
  {
   "cell_type": "code",
   "execution_count": null,
   "id": "502f9411-fb59-4a76-8519-a0c978d2aa3c",
   "metadata": {},
   "outputs": [],
   "source": []
  },
  {
   "cell_type": "code",
   "execution_count": null,
   "id": "7aea0fab-71aa-4afc-9a45-ea750e4dab82",
   "metadata": {},
   "outputs": [],
   "source": []
  },
  {
   "cell_type": "code",
   "execution_count": null,
   "id": "be85e050-e5c5-40fd-83fd-cf705f4f7fd7",
   "metadata": {},
   "outputs": [],
   "source": []
  },
  {
   "cell_type": "code",
   "execution_count": 8,
   "id": "92737cd6-d9ae-4887-a20a-8e33dc02ea19",
   "metadata": {},
   "outputs": [],
   "source": [
    "adata_GS_uniformed = sc.read_h5ad(\"Data/balanced_simonson_ready_for_jupyter_before_embedding.h5ad\")"
   ]
  },
  {
   "cell_type": "code",
   "execution_count": 2,
   "id": "22a683a4-8a60-4a37-95fa-f4ccd733494c",
   "metadata": {},
   "outputs": [],
   "source": [
    "adata_GS_uniformed = sc.read_h5ad(\"Data/ready_for_scMulan_25.h5ad\")"
   ]
  },
  {
   "cell_type": "code",
   "execution_count": 7,
   "id": "120901e2-014d-433f-aab3-3ea9a645957c",
   "metadata": {},
   "outputs": [],
   "source": [
    "adata_GS_uniformed = sc.read_h5ad(\"Data/ready_for_scMulan_100.h5ad\")"
   ]
  },
  {
   "cell_type": "code",
   "execution_count": 12,
   "id": "6bed9c7c-a9d0-48c5-b27e-b0dd757e8e3b",
   "metadata": {},
   "outputs": [],
   "source": [
    "adata_GS_uniformed = sc.read_h5ad(\"Data/ready_for_scMulan_1000.h5ad\")"
   ]
  },
  {
   "cell_type": "code",
   "execution_count": 2,
   "id": "8e49bf51-b4ce-4a43-8221-da9cf1064b5f",
   "metadata": {},
   "outputs": [],
   "source": [
    "adata_GS_uniformed = sc.read('Data/100_per_sample.h5ad')"
   ]
  },
  {
   "cell_type": "code",
   "execution_count": null,
   "id": "9842db13-3cda-4d38-89fc-eff1f939663d",
   "metadata": {},
   "outputs": [],
   "source": []
  },
  {
   "cell_type": "code",
   "execution_count": null,
   "id": "46cff669-64a8-47fa-938e-c57f9a7da248",
   "metadata": {},
   "outputs": [],
   "source": []
  },
  {
   "cell_type": "code",
   "execution_count": 2,
   "id": "67492d1b-ba99-4067-8556-e9350c26bfbe",
   "metadata": {},
   "outputs": [],
   "source": [
    "adata_GS_uniformed = sc.read('Data/ready_for_input_scMulan.h5ad')"
   ]
  },
  {
   "cell_type": "code",
   "execution_count": null,
   "id": "e36e761c-74f5-4d8f-98e1-7a33dfb371d1",
   "metadata": {},
   "outputs": [],
   "source": []
  },
  {
   "cell_type": "code",
   "execution_count": 3,
   "id": "b0b8b58c",
   "metadata": {},
   "outputs": [],
   "source": [
    "# you should first download ckpt from https://cloud.tsinghua.edu.cn/f/2250c5df51034b2e9a85/?dl=1\n",
    "# put it under .ckpt/ckpt_scMulan.pt\n",
    "# by: wget https://cloud.tsinghua.edu.cn/f/2250c5df51034b2e9a85/?dl=1  -O ckpt/ckpt_scMulan.pt\n",
    "\n",
    "ckp_path = 'ckpt/ckpt_scMulan.pt'"
   ]
  },
  {
   "cell_type": "code",
   "execution_count": 4,
   "id": "a8428297",
   "metadata": {},
   "outputs": [
    {
     "name": "stderr",
     "output_type": "stream",
     "text": [
      "\u001b[32m2024-10-22 21:55:00.635\u001b[0m | \u001b[1mINFO    \u001b[0m | \u001b[36mscMulan.model.model\u001b[0m:\u001b[36m__init__\u001b[0m:\u001b[36m119\u001b[0m - \u001b[1mnumber of parameters: 368.80M\u001b[0m\n"
     ]
    },
    {
     "name": "stdout",
     "output_type": "stream",
     "text": [
      "✅ adata passed check\n",
      "👸 scMulan is ready\n",
      "scMulan is currently available to 0 GPUs.\n"
     ]
    }
   ],
   "source": [
    "scml = scMulan.model_inference(ckp_path, adata_GS_uniformed)\n",
    "base_process = scml.cuda_count()"
   ]
  },
  {
   "cell_type": "code",
   "execution_count": 5,
   "id": "87be0f1a",
   "metadata": {},
   "outputs": [
    {
     "name": "stderr",
     "output_type": "stream",
     "text": [
      "⏳ Collecting cell embeddings for each cell: 100%|█| 60345/60345 [9:28:59<00:00,\n"
     ]
    }
   ],
   "source": [
    "#scml.get_cell_types_and_embds_for_adata(parallel=True, n_process = base_process)\n",
    "scml.get_cell_types_and_embds_for_adata(parallel=False) # for only using CPU, but it is really slow."
   ]
  },
  {
   "cell_type": "code",
   "execution_count": null,
   "id": "acaaaeb9-53c3-4731-94b1-97d404d12f82",
   "metadata": {},
   "outputs": [],
   "source": []
  },
  {
   "cell_type": "code",
   "execution_count": 6,
   "id": "b95f00de-8819-4c67-9a26-3fdaa553afca",
   "metadata": {},
   "outputs": [],
   "source": [
    "scml.adata.write(\"results_scMulan.h5ad\")"
   ]
  },
  {
   "cell_type": "code",
   "execution_count": null,
   "id": "78dae275-8685-41d2-a24f-20cb903a8a14",
   "metadata": {},
   "outputs": [],
   "source": []
  },
  {
   "cell_type": "code",
   "execution_count": null,
   "id": "e5b3120f-f721-4008-9488-4cfb649a0c1a",
   "metadata": {},
   "outputs": [],
   "source": []
  },
  {
   "cell_type": "code",
   "execution_count": null,
   "id": "e7f73d3d-d94f-4e19-ae2d-de5c8744e163",
   "metadata": {},
   "outputs": [],
   "source": []
  },
  {
   "cell_type": "code",
   "execution_count": 16,
   "id": "c031eef9-29f9-4558-a4d0-1a6be3c6f130",
   "metadata": {},
   "outputs": [],
   "source": [
    "scml.adata.write(\"select_1000_scMulan.h5ad\")"
   ]
  },
  {
   "cell_type": "code",
   "execution_count": 11,
   "id": "49bac87e-f8fe-4dc6-b5df-03ffe76d4f67",
   "metadata": {},
   "outputs": [],
   "source": [
    "scml.adata.write(\"select_100_scMulan.h5ad\")"
   ]
  },
  {
   "cell_type": "code",
   "execution_count": 6,
   "id": "639e41d3-bccb-42b0-a582-202f54fe48ec",
   "metadata": {},
   "outputs": [],
   "source": [
    "scml.adata.write(\"select_25_scMulan.h5ad\")"
   ]
  },
  {
   "cell_type": "code",
   "execution_count": null,
   "id": "6057c8ef-aafb-48dc-9b0e-68987f7dab35",
   "metadata": {},
   "outputs": [],
   "source": []
  },
  {
   "cell_type": "code",
   "execution_count": null,
   "id": "74387b61-2647-44ce-be91-4ecb22ddcda8",
   "metadata": {},
   "outputs": [],
   "source": []
  },
  {
   "cell_type": "code",
   "execution_count": null,
   "id": "16c55f12-9a34-47b7-b06d-d63ddf10a997",
   "metadata": {},
   "outputs": [],
   "source": [
    "scml.adata.write(\"100_per_sample_result.h5ad\")"
   ]
  },
  {
   "cell_type": "code",
   "execution_count": null,
   "id": "e39203ae-1dae-45c5-b8f8-eb75183571d3",
   "metadata": {},
   "outputs": [],
   "source": []
  },
  {
   "cell_type": "code",
   "execution_count": null,
   "id": "b33dc0b2-0ae8-467c-9766-c41c6d81c97c",
   "metadata": {},
   "outputs": [],
   "source": []
  },
  {
   "cell_type": "markdown",
   "id": "3b13375a",
   "metadata": {},
   "source": [
    "The predicted cell types are stored in scml.adata.obs['cell_type_from_scMulan'], besides the cell embeddings (for multibatch integration) in scml.adata.obsm['X_scMulan'] (not used in this tutorial)."
   ]
  },
  {
   "cell_type": "code",
   "execution_count": null,
   "id": "7dca0ce0-71ea-425e-84c4-6f602dc0c53c",
   "metadata": {},
   "outputs": [],
   "source": []
  },
  {
   "cell_type": "code",
   "execution_count": null,
   "id": "c9801be5-428f-4712-b904-d6c9d2f9d0b2",
   "metadata": {},
   "outputs": [],
   "source": []
  },
  {
   "cell_type": "code",
   "execution_count": null,
   "id": "4ac1d429-16f5-4277-8090-9cf6d3d534cf",
   "metadata": {},
   "outputs": [],
   "source": []
  },
  {
   "cell_type": "code",
   "execution_count": 12,
   "id": "5f5215ec-303f-42b7-9f2f-084863ff65cf",
   "metadata": {},
   "outputs": [],
   "source": [
    "scml.adata.write(\"balanced_after_select_genes.h5ad\")"
   ]
  },
  {
   "cell_type": "code",
   "execution_count": null,
   "id": "bf2eb5d1-6a15-4a48-a127-c7dcfe18c6e0",
   "metadata": {},
   "outputs": [],
   "source": []
  },
  {
   "cell_type": "code",
   "execution_count": null,
   "id": "9ddc91ff-8b02-4cdd-bd66-7b31206a8613",
   "metadata": {},
   "outputs": [],
   "source": []
  },
  {
   "cell_type": "code",
   "execution_count": 26,
   "id": "8f3dcf0d-e686-461c-98e1-42c0a0b69ccd",
   "metadata": {},
   "outputs": [],
   "source": []
  },
  {
   "cell_type": "code",
   "execution_count": 26,
   "id": "d294b3f7-d109-4d30-86e7-4190f981fb4e",
   "metadata": {},
   "outputs": [],
   "source": [
    "scml.adata.obs.to_csv(\"scMulan_obs.csv\")"
   ]
  },
  {
   "cell_type": "code",
   "execution_count": 48,
   "id": "73083224-e65c-43c2-a968-892643393958",
   "metadata": {},
   "outputs": [],
   "source": [
    "scml.adata.write(\"scMulan_another.h5ad\")"
   ]
  },
  {
   "cell_type": "code",
   "execution_count": null,
   "id": "6f5ff3b6-40fa-41bd-abc9-fb5d61bd52ab",
   "metadata": {},
   "outputs": [],
   "source": []
  },
  {
   "cell_type": "code",
   "execution_count": 20,
   "id": "e06a9b54-777d-401a-8b29-a75c07695c18",
   "metadata": {},
   "outputs": [
    {
     "data": {
      "text/plain": [
       "ACCAACAAGGGTTTCT-1-1     Cardiomyocyte cell\n",
       "ATTCACTTCCCGAGGT-1-1     Cardiomyocyte cell\n",
       "ATGCATGCACGCTTAA-1-1     Cardiomyocyte cell\n",
       "CAACCTCTCAGACCCG-1-1     Cardiomyocyte cell\n",
       "CTCCCAAGTTCGTAAC-1-1     Cardiomyocyte cell\n",
       "                                ...        \n",
       "TCGTAGACACACTTAG-1-14      Endothelial cell\n",
       "TGAATGCTCATGCCAA-1-14              Pericyte\n",
       "GTGGAGATCGGCTGAC-1-14         Lymphoid cell\n",
       "TGAGTCAGTGGGCTCT-1-14            Macrophage\n",
       "GTGGAGAAGAAATTGC-1-14      Endothelial cell\n",
       "Name: cell_type, Length: 60345, dtype: category\n",
       "Categories (11, object): ['Adipocyte', 'Basement membrane fibroblast', 'Cardiomyocyte cell', 'Endothelial cell', ..., 'Mesothelial cell', 'Neuron', 'Pericyte', 'Unclassified']"
      ]
     },
     "execution_count": 20,
     "metadata": {},
     "output_type": "execute_result"
    }
   ],
   "source": [
    "scml.adata.obs['cell_type']"
   ]
  },
  {
   "cell_type": "code",
   "execution_count": 16,
   "id": "01ba0a83-5f7e-46de-b5aa-f4cbf5ad9f38",
   "metadata": {},
   "outputs": [
    {
     "data": {
      "text/plain": [
       "ACCAACAAGGGTTTCT-1-1             Cardiomyocyte cell\n",
       "ATTCACTTCCCGAGGT-1-1             Cardiomyocyte cell\n",
       "ATGCATGCACGCTTAA-1-1             Cardiomyocyte cell\n",
       "CAACCTCTCAGACCCG-1-1             Cardiomyocyte cell\n",
       "CTCCCAAGTTCGTAAC-1-1             Cardiomyocyte cell\n",
       "                                    ...            \n",
       "TCGTAGACACACTTAG-1-14    Capillary endothelial cell\n",
       "TGAATGCTCATGCCAA-1-14                      Pericyte\n",
       "GTGGAGATCGGCTGAC-1-14     Migratory dendriitic cell\n",
       "TGAGTCAGTGGGCTCT-1-14                    Macrophage\n",
       "GTGGAGAAGAAATTGC-1-14              Endothelial cell\n",
       "Name: cell_type_from_scMulan, Length: 60345, dtype: object"
      ]
     },
     "execution_count": 16,
     "metadata": {},
     "output_type": "execute_result"
    }
   ],
   "source": [
    "scml.adata.obs['cell_type_from_scMulan']"
   ]
  },
  {
   "cell_type": "code",
   "execution_count": 17,
   "id": "0fe67db6-fc99-493d-bf2f-5bf9414f4f8e",
   "metadata": {},
   "outputs": [],
   "source": [
    "from sklearn.metrics import accuracy_score, precision_score, f1_score"
   ]
  },
  {
   "cell_type": "code",
   "execution_count": 21,
   "id": "171aa4cb-50ff-41dc-94bd-78e69407dd57",
   "metadata": {},
   "outputs": [],
   "source": [
    "y_true = scml.adata.obs['cell_type']\n",
    "y_pred = scml.adata.obs['cell_type_from_scMulan']"
   ]
  },
  {
   "cell_type": "code",
   "execution_count": 22,
   "id": "663f6680-57f0-4f8b-a1b2-3f440fcc6821",
   "metadata": {},
   "outputs": [
    {
     "name": "stderr",
     "output_type": "stream",
     "text": [
      "/Users/danrongli/miniforge3/envs/scMulan/lib/python3.10/site-packages/sklearn/metrics/_classification.py:1531: UndefinedMetricWarning: Precision is ill-defined and being set to 0.0 in labels with no predicted samples. Use `zero_division` parameter to control this behavior.\n",
      "  _warn_prf(average, modifier, f\"{metric.capitalize()} is\", len(result))\n"
     ]
    },
    {
     "name": "stdout",
     "output_type": "stream",
     "text": [
      "Accuracy: 0.6983345761869252\n",
      "Weighted Precision: 0.9728234248187101\n",
      "Weighted F1 Score: 0.7179224131798324\n"
     ]
    }
   ],
   "source": [
    "# Calculate accuracy\n",
    "accuracy = accuracy_score(y_true, y_pred)\n",
    "\n",
    "# Calculate weighted precision\n",
    "weighted_precision = precision_score(y_true, y_pred, average='weighted')\n",
    "\n",
    "# Calculate weighted F1 score\n",
    "weighted_f1 = f1_score(y_true, y_pred, average='weighted')\n",
    "\n",
    "# Print the results\n",
    "print(f\"Accuracy: {accuracy}\")\n",
    "print(f\"Weighted Precision: {weighted_precision}\")\n",
    "print(f\"Weighted F1 Score: {weighted_f1}\")"
   ]
  },
  {
   "cell_type": "markdown",
   "id": "e99ea6be",
   "metadata": {},
   "source": [
    "## 5. visualization"
   ]
  },
  {
   "cell_type": "code",
   "execution_count": null,
   "id": "f1d02906",
   "metadata": {},
   "outputs": [],
   "source": [
    "adata_mulan = scml.adata.copy()"
   ]
  },
  {
   "cell_type": "code",
   "execution_count": null,
   "id": "928af866",
   "metadata": {
    "scrolled": true
   },
   "outputs": [],
   "source": [
    "sc.pp.pca(adata_mulan)\n",
    "sc.pl.pca_variance_ratio(adata_mulan)\n",
    "sc.pp.neighbors(adata_mulan,n_pcs=10)\n",
    "sc.tl.umap(adata_mulan)"
   ]
  },
  {
   "cell_type": "code",
   "execution_count": null,
   "id": "939fed90",
   "metadata": {},
   "outputs": [],
   "source": [
    "# you can run smoothing function to filter the false positives\n",
    "scMulan.cell_type_smoothing(adata_mulan, threshold=0.1)"
   ]
  },
  {
   "cell_type": "code",
   "execution_count": null,
   "id": "4dad1c73",
   "metadata": {
    "scrolled": true
   },
   "outputs": [],
   "source": [
    "# cell_type_from_scMulan: pred\n",
    "# cell_type_from_mulan_smoothing: pred+smoothing\n",
    "# original_name: original annotations by the authors\n",
    "# cell_type: cell types in hECA-10M that maps original_name to uHAF\n",
    "\n",
    "sc.pl.umap(adata_mulan,color=[\"cell_type_from_scMulan\",\"cell_type_from_mulan_smoothing\",'cell_type','original_name'],ncols=1)"
   ]
  },
  {
   "cell_type": "code",
   "execution_count": null,
   "id": "047fe6fd",
   "metadata": {},
   "outputs": [],
   "source": [
    "top_celltypes = adata_mulan.obs.cell_type_from_scMulan.value_counts().index[:20]"
   ]
  },
  {
   "cell_type": "code",
   "execution_count": null,
   "id": "6b8e7437",
   "metadata": {
    "scrolled": true
   },
   "outputs": [],
   "source": [
    "# you can select some cell types of interest (from scMulan's prediction) for visulization\n",
    "# selected_cell_types = [\"NK cell\", \"Kupffer cell\", \"Conventional dendritic cell 2\"] # as example\n",
    "selected_cell_types = top_celltypes\n",
    "scMulan.visualize_selected_cell_types(adata_mulan,selected_cell_types,smoothing=True)"
   ]
  },
  {
   "cell_type": "code",
   "execution_count": null,
   "id": "3580e323",
   "metadata": {},
   "outputs": [],
   "source": []
  }
 ],
 "metadata": {
  "kernelspec": {
   "display_name": "Python 3 (ipykernel)",
   "language": "python",
   "name": "python3"
  },
  "language_info": {
   "codemirror_mode": {
    "name": "ipython",
    "version": 3
   },
   "file_extension": ".py",
   "mimetype": "text/x-python",
   "name": "python",
   "nbconvert_exporter": "python",
   "pygments_lexer": "ipython3",
   "version": "3.10.0"
  }
 },
 "nbformat": 4,
 "nbformat_minor": 5
}
