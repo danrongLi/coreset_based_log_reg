{
  "nbformat": 4,
  "nbformat_minor": 0,
  "metadata": {
    "colab": {
      "provenance": []
    },
    "kernelspec": {
      "name": "python3",
      "display_name": "Python 3"
    },
    "language_info": {
      "name": "python"
    },
    "widgets": {
      "application/vnd.jupyter.widget-state+json": {
        "44034db22c624714b4cc74b87891573f": {
          "model_module": "@jupyter-widgets/controls",
          "model_name": "HBoxModel",
          "model_module_version": "1.5.0",
          "state": {
            "_dom_classes": [],
            "_model_module": "@jupyter-widgets/controls",
            "_model_module_version": "1.5.0",
            "_model_name": "HBoxModel",
            "_view_count": null,
            "_view_module": "@jupyter-widgets/controls",
            "_view_module_version": "1.5.0",
            "_view_name": "HBoxView",
            "box_style": "",
            "children": [
              "IPY_MODEL_b256c524d9e24f569862ed349f86a4ba",
              "IPY_MODEL_3e65d00016dd42e58a4a268338e54318",
              "IPY_MODEL_ba5ca7ec92864799b45915d96d8d2843"
            ],
            "layout": "IPY_MODEL_b727b8a7e0db483b88530b6f7d65e7d9"
          }
        },
        "b256c524d9e24f569862ed349f86a4ba": {
          "model_module": "@jupyter-widgets/controls",
          "model_name": "HTMLModel",
          "model_module_version": "1.5.0",
          "state": {
            "_dom_classes": [],
            "_model_module": "@jupyter-widgets/controls",
            "_model_module_version": "1.5.0",
            "_model_name": "HTMLModel",
            "_view_count": null,
            "_view_module": "@jupyter-widgets/controls",
            "_view_module_version": "1.5.0",
            "_view_name": "HTMLView",
            "description": "",
            "description_tooltip": null,
            "layout": "IPY_MODEL_97f99ba219ef45efa54086d169b34d6a",
            "placeholder": "​",
            "style": "IPY_MODEL_596da9403acf425eb0c2cca038df3bde",
            "value": "Building Random Forest: 100%"
          }
        },
        "3e65d00016dd42e58a4a268338e54318": {
          "model_module": "@jupyter-widgets/controls",
          "model_name": "FloatProgressModel",
          "model_module_version": "1.5.0",
          "state": {
            "_dom_classes": [],
            "_model_module": "@jupyter-widgets/controls",
            "_model_module_version": "1.5.0",
            "_model_name": "FloatProgressModel",
            "_view_count": null,
            "_view_module": "@jupyter-widgets/controls",
            "_view_module_version": "1.5.0",
            "_view_name": "ProgressView",
            "bar_style": "success",
            "description": "",
            "description_tooltip": null,
            "layout": "IPY_MODEL_3fb6b0ab878940168fd5ca9aaf0e8b1e",
            "max": 5,
            "min": 0,
            "orientation": "horizontal",
            "style": "IPY_MODEL_8def4209cfd54bb7b702fbfacc8fce3f",
            "value": 5
          }
        },
        "ba5ca7ec92864799b45915d96d8d2843": {
          "model_module": "@jupyter-widgets/controls",
          "model_name": "HTMLModel",
          "model_module_version": "1.5.0",
          "state": {
            "_dom_classes": [],
            "_model_module": "@jupyter-widgets/controls",
            "_model_module_version": "1.5.0",
            "_model_name": "HTMLModel",
            "_view_count": null,
            "_view_module": "@jupyter-widgets/controls",
            "_view_module_version": "1.5.0",
            "_view_name": "HTMLView",
            "description": "",
            "description_tooltip": null,
            "layout": "IPY_MODEL_ce3021c473c04d41bf0f58877b276b59",
            "placeholder": "​",
            "style": "IPY_MODEL_0e5547cb89754c7785ec6f32bb8fe67d",
            "value": " 5/5 [12:43&lt;00:00, 152.71s/it]"
          }
        },
        "b727b8a7e0db483b88530b6f7d65e7d9": {
          "model_module": "@jupyter-widgets/base",
          "model_name": "LayoutModel",
          "model_module_version": "1.2.0",
          "state": {
            "_model_module": "@jupyter-widgets/base",
            "_model_module_version": "1.2.0",
            "_model_name": "LayoutModel",
            "_view_count": null,
            "_view_module": "@jupyter-widgets/base",
            "_view_module_version": "1.2.0",
            "_view_name": "LayoutView",
            "align_content": null,
            "align_items": null,
            "align_self": null,
            "border": null,
            "bottom": null,
            "display": null,
            "flex": null,
            "flex_flow": null,
            "grid_area": null,
            "grid_auto_columns": null,
            "grid_auto_flow": null,
            "grid_auto_rows": null,
            "grid_column": null,
            "grid_gap": null,
            "grid_row": null,
            "grid_template_areas": null,
            "grid_template_columns": null,
            "grid_template_rows": null,
            "height": null,
            "justify_content": null,
            "justify_items": null,
            "left": null,
            "margin": null,
            "max_height": null,
            "max_width": null,
            "min_height": null,
            "min_width": null,
            "object_fit": null,
            "object_position": null,
            "order": null,
            "overflow": null,
            "overflow_x": null,
            "overflow_y": null,
            "padding": null,
            "right": null,
            "top": null,
            "visibility": null,
            "width": null
          }
        },
        "97f99ba219ef45efa54086d169b34d6a": {
          "model_module": "@jupyter-widgets/base",
          "model_name": "LayoutModel",
          "model_module_version": "1.2.0",
          "state": {
            "_model_module": "@jupyter-widgets/base",
            "_model_module_version": "1.2.0",
            "_model_name": "LayoutModel",
            "_view_count": null,
            "_view_module": "@jupyter-widgets/base",
            "_view_module_version": "1.2.0",
            "_view_name": "LayoutView",
            "align_content": null,
            "align_items": null,
            "align_self": null,
            "border": null,
            "bottom": null,
            "display": null,
            "flex": null,
            "flex_flow": null,
            "grid_area": null,
            "grid_auto_columns": null,
            "grid_auto_flow": null,
            "grid_auto_rows": null,
            "grid_column": null,
            "grid_gap": null,
            "grid_row": null,
            "grid_template_areas": null,
            "grid_template_columns": null,
            "grid_template_rows": null,
            "height": null,
            "justify_content": null,
            "justify_items": null,
            "left": null,
            "margin": null,
            "max_height": null,
            "max_width": null,
            "min_height": null,
            "min_width": null,
            "object_fit": null,
            "object_position": null,
            "order": null,
            "overflow": null,
            "overflow_x": null,
            "overflow_y": null,
            "padding": null,
            "right": null,
            "top": null,
            "visibility": null,
            "width": null
          }
        },
        "596da9403acf425eb0c2cca038df3bde": {
          "model_module": "@jupyter-widgets/controls",
          "model_name": "DescriptionStyleModel",
          "model_module_version": "1.5.0",
          "state": {
            "_model_module": "@jupyter-widgets/controls",
            "_model_module_version": "1.5.0",
            "_model_name": "DescriptionStyleModel",
            "_view_count": null,
            "_view_module": "@jupyter-widgets/base",
            "_view_module_version": "1.2.0",
            "_view_name": "StyleView",
            "description_width": ""
          }
        },
        "3fb6b0ab878940168fd5ca9aaf0e8b1e": {
          "model_module": "@jupyter-widgets/base",
          "model_name": "LayoutModel",
          "model_module_version": "1.2.0",
          "state": {
            "_model_module": "@jupyter-widgets/base",
            "_model_module_version": "1.2.0",
            "_model_name": "LayoutModel",
            "_view_count": null,
            "_view_module": "@jupyter-widgets/base",
            "_view_module_version": "1.2.0",
            "_view_name": "LayoutView",
            "align_content": null,
            "align_items": null,
            "align_self": null,
            "border": null,
            "bottom": null,
            "display": null,
            "flex": null,
            "flex_flow": null,
            "grid_area": null,
            "grid_auto_columns": null,
            "grid_auto_flow": null,
            "grid_auto_rows": null,
            "grid_column": null,
            "grid_gap": null,
            "grid_row": null,
            "grid_template_areas": null,
            "grid_template_columns": null,
            "grid_template_rows": null,
            "height": null,
            "justify_content": null,
            "justify_items": null,
            "left": null,
            "margin": null,
            "max_height": null,
            "max_width": null,
            "min_height": null,
            "min_width": null,
            "object_fit": null,
            "object_position": null,
            "order": null,
            "overflow": null,
            "overflow_x": null,
            "overflow_y": null,
            "padding": null,
            "right": null,
            "top": null,
            "visibility": null,
            "width": null
          }
        },
        "8def4209cfd54bb7b702fbfacc8fce3f": {
          "model_module": "@jupyter-widgets/controls",
          "model_name": "ProgressStyleModel",
          "model_module_version": "1.5.0",
          "state": {
            "_model_module": "@jupyter-widgets/controls",
            "_model_module_version": "1.5.0",
            "_model_name": "ProgressStyleModel",
            "_view_count": null,
            "_view_module": "@jupyter-widgets/base",
            "_view_module_version": "1.2.0",
            "_view_name": "StyleView",
            "bar_color": null,
            "description_width": ""
          }
        },
        "ce3021c473c04d41bf0f58877b276b59": {
          "model_module": "@jupyter-widgets/base",
          "model_name": "LayoutModel",
          "model_module_version": "1.2.0",
          "state": {
            "_model_module": "@jupyter-widgets/base",
            "_model_module_version": "1.2.0",
            "_model_name": "LayoutModel",
            "_view_count": null,
            "_view_module": "@jupyter-widgets/base",
            "_view_module_version": "1.2.0",
            "_view_name": "LayoutView",
            "align_content": null,
            "align_items": null,
            "align_self": null,
            "border": null,
            "bottom": null,
            "display": null,
            "flex": null,
            "flex_flow": null,
            "grid_area": null,
            "grid_auto_columns": null,
            "grid_auto_flow": null,
            "grid_auto_rows": null,
            "grid_column": null,
            "grid_gap": null,
            "grid_row": null,
            "grid_template_areas": null,
            "grid_template_columns": null,
            "grid_template_rows": null,
            "height": null,
            "justify_content": null,
            "justify_items": null,
            "left": null,
            "margin": null,
            "max_height": null,
            "max_width": null,
            "min_height": null,
            "min_width": null,
            "object_fit": null,
            "object_position": null,
            "order": null,
            "overflow": null,
            "overflow_x": null,
            "overflow_y": null,
            "padding": null,
            "right": null,
            "top": null,
            "visibility": null,
            "width": null
          }
        },
        "0e5547cb89754c7785ec6f32bb8fe67d": {
          "model_module": "@jupyter-widgets/controls",
          "model_name": "DescriptionStyleModel",
          "model_module_version": "1.5.0",
          "state": {
            "_model_module": "@jupyter-widgets/controls",
            "_model_module_version": "1.5.0",
            "_model_name": "DescriptionStyleModel",
            "_view_count": null,
            "_view_module": "@jupyter-widgets/base",
            "_view_module_version": "1.2.0",
            "_view_name": "StyleView",
            "description_width": ""
          }
        },
        "e6bf6e764b9548438e03f53996295487": {
          "model_module": "@jupyter-widgets/controls",
          "model_name": "HBoxModel",
          "model_module_version": "1.5.0",
          "state": {
            "_dom_classes": [],
            "_model_module": "@jupyter-widgets/controls",
            "_model_module_version": "1.5.0",
            "_model_name": "HBoxModel",
            "_view_count": null,
            "_view_module": "@jupyter-widgets/controls",
            "_view_module_version": "1.5.0",
            "_view_name": "HBoxView",
            "box_style": "",
            "children": [
              "IPY_MODEL_2a2f69a963994ea48cea05a9a5812b20",
              "IPY_MODEL_a4bd625ae01a46c589a433baa38d20a8",
              "IPY_MODEL_91cfdf7ddfbb441c866a3b8ee62ae7d6"
            ],
            "layout": "IPY_MODEL_b582f941ea3149209e62f30906464698"
          }
        },
        "2a2f69a963994ea48cea05a9a5812b20": {
          "model_module": "@jupyter-widgets/controls",
          "model_name": "HTMLModel",
          "model_module_version": "1.5.0",
          "state": {
            "_dom_classes": [],
            "_model_module": "@jupyter-widgets/controls",
            "_model_module_version": "1.5.0",
            "_model_name": "HTMLModel",
            "_view_count": null,
            "_view_module": "@jupyter-widgets/controls",
            "_view_module_version": "1.5.0",
            "_view_name": "HTMLView",
            "description": "",
            "description_tooltip": null,
            "layout": "IPY_MODEL_c8dc9c31bbab4e45a51bc1d6831ee77a",
            "placeholder": "​",
            "style": "IPY_MODEL_d08becbac3ff4e86b56e655602f71309",
            "value": "Building Random Forest: 100%"
          }
        },
        "a4bd625ae01a46c589a433baa38d20a8": {
          "model_module": "@jupyter-widgets/controls",
          "model_name": "FloatProgressModel",
          "model_module_version": "1.5.0",
          "state": {
            "_dom_classes": [],
            "_model_module": "@jupyter-widgets/controls",
            "_model_module_version": "1.5.0",
            "_model_name": "FloatProgressModel",
            "_view_count": null,
            "_view_module": "@jupyter-widgets/controls",
            "_view_module_version": "1.5.0",
            "_view_name": "ProgressView",
            "bar_style": "success",
            "description": "",
            "description_tooltip": null,
            "layout": "IPY_MODEL_2b41194eb217464e8a0f73742bbf07a5",
            "max": 5,
            "min": 0,
            "orientation": "horizontal",
            "style": "IPY_MODEL_e3d4608ecad945028c4a620657a6992f",
            "value": 5
          }
        },
        "91cfdf7ddfbb441c866a3b8ee62ae7d6": {
          "model_module": "@jupyter-widgets/controls",
          "model_name": "HTMLModel",
          "model_module_version": "1.5.0",
          "state": {
            "_dom_classes": [],
            "_model_module": "@jupyter-widgets/controls",
            "_model_module_version": "1.5.0",
            "_model_name": "HTMLModel",
            "_view_count": null,
            "_view_module": "@jupyter-widgets/controls",
            "_view_module_version": "1.5.0",
            "_view_name": "HTMLView",
            "description": "",
            "description_tooltip": null,
            "layout": "IPY_MODEL_2ab8a86d592c425e92b99c5791708205",
            "placeholder": "​",
            "style": "IPY_MODEL_e8ab10eca0db44d69922496bc05b70ec",
            "value": " 5/5 [10:11&lt;00:00, 121.85s/it]"
          }
        },
        "b582f941ea3149209e62f30906464698": {
          "model_module": "@jupyter-widgets/base",
          "model_name": "LayoutModel",
          "model_module_version": "1.2.0",
          "state": {
            "_model_module": "@jupyter-widgets/base",
            "_model_module_version": "1.2.0",
            "_model_name": "LayoutModel",
            "_view_count": null,
            "_view_module": "@jupyter-widgets/base",
            "_view_module_version": "1.2.0",
            "_view_name": "LayoutView",
            "align_content": null,
            "align_items": null,
            "align_self": null,
            "border": null,
            "bottom": null,
            "display": null,
            "flex": null,
            "flex_flow": null,
            "grid_area": null,
            "grid_auto_columns": null,
            "grid_auto_flow": null,
            "grid_auto_rows": null,
            "grid_column": null,
            "grid_gap": null,
            "grid_row": null,
            "grid_template_areas": null,
            "grid_template_columns": null,
            "grid_template_rows": null,
            "height": null,
            "justify_content": null,
            "justify_items": null,
            "left": null,
            "margin": null,
            "max_height": null,
            "max_width": null,
            "min_height": null,
            "min_width": null,
            "object_fit": null,
            "object_position": null,
            "order": null,
            "overflow": null,
            "overflow_x": null,
            "overflow_y": null,
            "padding": null,
            "right": null,
            "top": null,
            "visibility": null,
            "width": null
          }
        },
        "c8dc9c31bbab4e45a51bc1d6831ee77a": {
          "model_module": "@jupyter-widgets/base",
          "model_name": "LayoutModel",
          "model_module_version": "1.2.0",
          "state": {
            "_model_module": "@jupyter-widgets/base",
            "_model_module_version": "1.2.0",
            "_model_name": "LayoutModel",
            "_view_count": null,
            "_view_module": "@jupyter-widgets/base",
            "_view_module_version": "1.2.0",
            "_view_name": "LayoutView",
            "align_content": null,
            "align_items": null,
            "align_self": null,
            "border": null,
            "bottom": null,
            "display": null,
            "flex": null,
            "flex_flow": null,
            "grid_area": null,
            "grid_auto_columns": null,
            "grid_auto_flow": null,
            "grid_auto_rows": null,
            "grid_column": null,
            "grid_gap": null,
            "grid_row": null,
            "grid_template_areas": null,
            "grid_template_columns": null,
            "grid_template_rows": null,
            "height": null,
            "justify_content": null,
            "justify_items": null,
            "left": null,
            "margin": null,
            "max_height": null,
            "max_width": null,
            "min_height": null,
            "min_width": null,
            "object_fit": null,
            "object_position": null,
            "order": null,
            "overflow": null,
            "overflow_x": null,
            "overflow_y": null,
            "padding": null,
            "right": null,
            "top": null,
            "visibility": null,
            "width": null
          }
        },
        "d08becbac3ff4e86b56e655602f71309": {
          "model_module": "@jupyter-widgets/controls",
          "model_name": "DescriptionStyleModel",
          "model_module_version": "1.5.0",
          "state": {
            "_model_module": "@jupyter-widgets/controls",
            "_model_module_version": "1.5.0",
            "_model_name": "DescriptionStyleModel",
            "_view_count": null,
            "_view_module": "@jupyter-widgets/base",
            "_view_module_version": "1.2.0",
            "_view_name": "StyleView",
            "description_width": ""
          }
        },
        "2b41194eb217464e8a0f73742bbf07a5": {
          "model_module": "@jupyter-widgets/base",
          "model_name": "LayoutModel",
          "model_module_version": "1.2.0",
          "state": {
            "_model_module": "@jupyter-widgets/base",
            "_model_module_version": "1.2.0",
            "_model_name": "LayoutModel",
            "_view_count": null,
            "_view_module": "@jupyter-widgets/base",
            "_view_module_version": "1.2.0",
            "_view_name": "LayoutView",
            "align_content": null,
            "align_items": null,
            "align_self": null,
            "border": null,
            "bottom": null,
            "display": null,
            "flex": null,
            "flex_flow": null,
            "grid_area": null,
            "grid_auto_columns": null,
            "grid_auto_flow": null,
            "grid_auto_rows": null,
            "grid_column": null,
            "grid_gap": null,
            "grid_row": null,
            "grid_template_areas": null,
            "grid_template_columns": null,
            "grid_template_rows": null,
            "height": null,
            "justify_content": null,
            "justify_items": null,
            "left": null,
            "margin": null,
            "max_height": null,
            "max_width": null,
            "min_height": null,
            "min_width": null,
            "object_fit": null,
            "object_position": null,
            "order": null,
            "overflow": null,
            "overflow_x": null,
            "overflow_y": null,
            "padding": null,
            "right": null,
            "top": null,
            "visibility": null,
            "width": null
          }
        },
        "e3d4608ecad945028c4a620657a6992f": {
          "model_module": "@jupyter-widgets/controls",
          "model_name": "ProgressStyleModel",
          "model_module_version": "1.5.0",
          "state": {
            "_model_module": "@jupyter-widgets/controls",
            "_model_module_version": "1.5.0",
            "_model_name": "ProgressStyleModel",
            "_view_count": null,
            "_view_module": "@jupyter-widgets/base",
            "_view_module_version": "1.2.0",
            "_view_name": "StyleView",
            "bar_color": null,
            "description_width": ""
          }
        },
        "2ab8a86d592c425e92b99c5791708205": {
          "model_module": "@jupyter-widgets/base",
          "model_name": "LayoutModel",
          "model_module_version": "1.2.0",
          "state": {
            "_model_module": "@jupyter-widgets/base",
            "_model_module_version": "1.2.0",
            "_model_name": "LayoutModel",
            "_view_count": null,
            "_view_module": "@jupyter-widgets/base",
            "_view_module_version": "1.2.0",
            "_view_name": "LayoutView",
            "align_content": null,
            "align_items": null,
            "align_self": null,
            "border": null,
            "bottom": null,
            "display": null,
            "flex": null,
            "flex_flow": null,
            "grid_area": null,
            "grid_auto_columns": null,
            "grid_auto_flow": null,
            "grid_auto_rows": null,
            "grid_column": null,
            "grid_gap": null,
            "grid_row": null,
            "grid_template_areas": null,
            "grid_template_columns": null,
            "grid_template_rows": null,
            "height": null,
            "justify_content": null,
            "justify_items": null,
            "left": null,
            "margin": null,
            "max_height": null,
            "max_width": null,
            "min_height": null,
            "min_width": null,
            "object_fit": null,
            "object_position": null,
            "order": null,
            "overflow": null,
            "overflow_x": null,
            "overflow_y": null,
            "padding": null,
            "right": null,
            "top": null,
            "visibility": null,
            "width": null
          }
        },
        "e8ab10eca0db44d69922496bc05b70ec": {
          "model_module": "@jupyter-widgets/controls",
          "model_name": "DescriptionStyleModel",
          "model_module_version": "1.5.0",
          "state": {
            "_model_module": "@jupyter-widgets/controls",
            "_model_module_version": "1.5.0",
            "_model_name": "DescriptionStyleModel",
            "_view_count": null,
            "_view_module": "@jupyter-widgets/base",
            "_view_module_version": "1.2.0",
            "_view_name": "StyleView",
            "description_width": ""
          }
        }
      }
    }
  },
  "cells": [
    {
      "cell_type": "markdown",
      "source": [
        "#Import Packages"
      ],
      "metadata": {
        "id": "sX6PElTp3v46"
      }
    },
    {
      "cell_type": "code",
      "source": [
        "# from google.colab import drive\n",
        "# drive.mount('/content/drive')"
      ],
      "metadata": {
        "id": "baThZCZeJYGb",
        "colab": {
          "base_uri": "https://localhost:8080/"
        },
        "outputId": "0bd51b60-7fba-40ae-d05b-4041b0bbe561"
      },
      "execution_count": null,
      "outputs": [
        {
          "output_type": "stream",
          "name": "stdout",
          "text": [
            "Mounted at /content/drive\n"
          ]
        }
      ]
    },
    {
      "cell_type": "code",
      "source": [
        "# !pip install anndata\n",
        "# !pip install celltypist\n",
        "# !pip install scanpy"
      ],
      "metadata": {
        "id": "Y_Is1KgeLOAy"
      },
      "execution_count": null,
      "outputs": []
    },
    {
      "cell_type": "code",
      "execution_count": null,
      "metadata": {
        "id": "Vhx-i4zmJSD7",
        "colab": {
          "base_uri": "https://localhost:8080/"
        },
        "outputId": "c782c961-4cdb-410d-bd6b-adb6c10544c3"
      },
      "outputs": [
        {
          "output_type": "stream",
          "name": "stderr",
          "text": [
            "/usr/local/lib/python3.12/dist-packages/scanpy/_utils/__init__.py:33: FutureWarning: `__version__` is deprecated, use `importlib.metadata.version('anndata')` instead.\n",
            "  from anndata import __version__ as anndata_version\n",
            "/usr/local/lib/python3.12/dist-packages/scanpy/__init__.py:24: FutureWarning: `__version__` is deprecated, use `importlib.metadata.version('anndata')` instead.\n",
            "  if Version(anndata.__version__) >= Version(\"0.11.0rc2\"):\n",
            "/usr/local/lib/python3.12/dist-packages/scanpy/readwrite.py:16: FutureWarning: `__version__` is deprecated, use `importlib.metadata.version('anndata')` instead.\n",
            "  if Version(anndata.__version__) >= Version(\"0.11.0rc2\"):\n"
          ]
        }
      ],
      "source": [
        "import os\n",
        "os.environ[\"SCIPY_ARRAY_API\"] = \"1\"\n",
        "os.environ[\"SKLEARN_ARRAY_API\"] = \"1\"\n",
        "import anndata\n",
        "import numpy as np\n",
        "import celltypist\n",
        "from celltypist import models\n",
        "import time\n",
        "import scanpy as sc\n",
        "from scipy import sparse\n",
        "from sklearn.metrics import accuracy_score\n",
        "from sklearn.metrics import classification_report\n",
        "import matplotlib.pyplot as plt"
      ]
    },
    {
      "cell_type": "markdown",
      "source": [
        "#Functions"
      ],
      "metadata": {
        "id": "T1hdXYImFIoB"
      }
    },
    {
      "cell_type": "code",
      "source": [
        "from sklearn.neighbors import kneighbors_graph\n",
        "def SelfGraphConv(adata, n_neighbors = 4):\n",
        "    connectivity = kneighbors_graph(adata.obsm['spatial'], n_neighbors=n_neighbors, include_self=False)\n",
        "    connectivity = 0.5 * (connectivity + connectivity.T)\n",
        "    adata.X = connectivity.dot(adata.X)\n",
        "    return (adata)\n",
        "\n",
        "\n",
        "from scipy.spatial import cKDTree\n",
        "from collections import Counter\n",
        "\n",
        "def cKD_refine_label(coords, labels, k=50):\n",
        "    coords = np.asarray(coords, dtype=float)\n",
        "    n = coords.shape[0]\n",
        "    k = min(max(int(k), 1), n-1)       # clamp 1..n-1\n",
        "\n",
        "    lab = np.asarray(labels, dtype=object)\n",
        "\n",
        "    # normalize labels to 1D hashable values (strings/ints)\n",
        "    if lab.ndim == 2 and lab.shape[1] == 1:\n",
        "        lab = lab[:, 0]\n",
        "    elif lab.ndim > 1:\n",
        "        # if something like probabilities/one-hot slips in:\n",
        "        raise ValueError(f\"labels has unexpected shape {lab.shape}; need 1D class labels.\")\n",
        "\n",
        "    # ensure Python scalars/strings (not 0-d arrays)\n",
        "    lab = np.array([x.item() if isinstance(x, np.generic) else (x[0] if isinstance(x, (list, np.ndarray)) else x)\n",
        "                    for x in lab], dtype=object)\n",
        "\n",
        "    tree = cKDTree(coords, copy_data=True)\n",
        "    _, neighbors = tree.query(coords, k=k+1)\n",
        "    neighbors = neighbors[:, 1:]  # drop self\n",
        "\n",
        "    new_labels = np.array(lab, copy=True)\n",
        "    for i, nbrs in enumerate(neighbors):\n",
        "        nbr_labels = lab[nbrs].tolist()   # hashable\n",
        "        new_labels[i] = Counter(nbr_labels).most_common(1)[0][0]\n",
        "    return new_labels\n",
        "\n",
        "def cKD_refine_label_previous(coords, labels, k):\n",
        "    # Step 1: Build KD-Tree\n",
        "    tree = cKDTree(coords.copy())\n",
        "    # Step 2: Find k-nearest neighbors for each spot\n",
        "    # k+1 because the closest point is itself\n",
        "    distances, neighbors = tree.query(coords, k=k+1)\n",
        "    # Exclude self-neighbor (first column)\n",
        "    neighbors = neighbors[:, 1:]\n",
        "    # Step 3: Reassign labels\n",
        "    new_labels = labels.copy()\n",
        "    for i, nbrs in enumerate(neighbors):\n",
        "        # Get the labels of neighboring spots\n",
        "        neighbor_labels = labels[nbrs]\n",
        "        # Find the most common label among neighbors\n",
        "        # most_common_label = mode(neighbor_labels).mode[0]\n",
        "        most_common_label = Counter(neighbor_labels).most_common(1)[0][0]\n",
        "        # Reassign the label\n",
        "        new_labels[i] = most_common_label\n",
        "    return (new_labels)\n",
        "\n",
        "# env: pygnn\n",
        "import logging\n",
        "import os\n",
        "import seaborn as sns\n",
        "import celltypist\n",
        "from celltypist import models\n",
        "import numpy as np\n",
        "import pandas as pd\n",
        "from scipy.linalg import norm\n",
        "import scanpy as sc\n",
        "from matplotlib.lines import Line2D\n",
        "import random\n",
        "from sklearn.model_selection import LeaveOneGroupOut\n",
        "import tables\n",
        "import h5py\n",
        "import psutil  # For checking system memory\n",
        "from scipy.sparse import issparse\n",
        "from sklearn.model_selection import GroupKFold, GridSearchCV\n",
        "from sklearn.pipeline import Pipeline\n",
        "from sklearn.metrics import accuracy_score, confusion_matrix\n",
        "from sklearn.metrics import log_loss\n",
        "\n",
        "from sklearn.preprocessing import StandardScaler, MaxAbsScaler, LabelEncoder\n",
        "from sklearn.decomposition import PCA, TruncatedSVD\n",
        "from sklearn.model_selection import train_test_split, StratifiedShuffleSplit\n",
        "from sklearn.linear_model import LogisticRegression\n",
        "from sklearn.metrics import f1_score, balanced_accuracy_score, classification_report, precision_recall_fscore_support\n",
        "import seaborn as sns\n",
        "import matplotlib.pyplot as plt\n",
        "import time\n",
        "from scipy import sparse\n",
        "from scipy.sparse import csr_matrix\n",
        "\n",
        "from imblearn.over_sampling import RandomOverSampler\n",
        "from scipy.sparse import diags\n",
        "from scipy.linalg import svd, lstsq\n",
        "from scipy.sparse.linalg import inv, LinearOperator, spsolve, factorized\n",
        "\n",
        "import anndata\n",
        "import itertools\n",
        "\n",
        "#import scMulan\n",
        "#from scMulan import GeneSymbolUniform\n",
        "\n",
        "\n",
        "# Create or get the logger\n",
        "logger = logging.getLogger(__name__)\n",
        "\n",
        "# Set the level of the logger. This is optional and can be set to other levels (e.g., DEBUG, ERROR)\n",
        "logger.setLevel(logging.INFO)\n",
        "\n",
        "# Create a console handler and set the level to INFO\n",
        "console_handler = logging.StreamHandler()\n",
        "console_handler.setLevel(logging.INFO)\n",
        "\n",
        "# Create a formatter and set the formatter for the handler\n",
        "formatter = logging.Formatter('%(asctime)s - %(name)s - %(levelname)s - %(message)s')\n",
        "console_handler.setFormatter(formatter)\n",
        "\n",
        "# Add the handler to the logger\n",
        "logger.addHandler(console_handler)\n",
        "\n",
        "logger.info('done importing stuff')\n",
        "\n",
        "\n",
        "### Step 1: Train the Logistic Regression Model ###\n",
        "def train_logistic_regression(X_train, y_train):\n",
        "    \"\"\"\n",
        "    Train logistic regression model with multi-class 'one-vs-rest' strategy.\n",
        "    \"\"\"\n",
        "    #if X_train.shape[0]< 50000:\n",
        "    #    max_iter_val = 1000\n",
        "    #elif indata.shape[0] < 500000:\n",
        "    #    max_iter_val = 500\n",
        "    #else:\n",
        "    #    max_iter_val = 200\n",
        "\n",
        "    #if len(y_train)>50000:\n",
        "    #    solver_val = 'saga'\n",
        "    #else:\n",
        "    #    solver_val = 'lbfgs'\n",
        "\n",
        "    #logger.info(\"max_iter\")\n",
        "    #logger.info(max_iter_val)\n",
        "    #logger.info(\"solver\")\n",
        "    #logger.info(solver_val)\n",
        "\n",
        "    if not isinstance(X_train, csr_matrix):\n",
        "        X_train = csr_matrix(X_train)\n",
        "\n",
        "    logger.info(\"begin training\")\n",
        "    begin = time.time()\n",
        "    clf = LogisticRegression(multi_class='ovr', solver=\"saga\", max_iter=200, n_jobs=-1)\n",
        "    clf.fit(X_train, y_train)\n",
        "    end = time.time()\n",
        "    logger.info(\"end training\")\n",
        "    time_taken = end-begin\n",
        "    logger.info(f\"Time taken for training: {time_taken:.4f} seconds\")\n",
        "    return clf\n",
        "\n",
        "def not_train_logistic_regression(X_train, y_train, C=0.1):\n",
        "    \"\"\"\n",
        "    Train logistic regression model with multi-class 'one-vs-rest' strategy.\n",
        "    \"\"\"\n",
        "    # logger.info(\"begin training\")\n",
        "    begin = time.time()\n",
        "    #clf = LogisticRegression(C=0.001,multi_class='ovr', solver='lbfgs', max_iter=200, n_jobs=-1)\n",
        "    clf = LogisticRegression(C=C,multi_class='ovr', solver='lbfgs', max_iter=200, n_jobs=-1)\n",
        "    #clf = LogisticRegression(C=1,multi_class='ovr', solver='lbfgs', max_iter=200, n_jobs=-1)\n",
        "    clf.fit(X_train, y_train)\n",
        "    end = time.time()\n",
        "    time_taken = end-begin\n",
        "    return clf\n",
        "\n",
        "\n",
        "### Step 2: Predict Cell Types with Confidence ###\n",
        "def previous_predict_with_confidence(model, X_test):\n",
        "    \"\"\"\n",
        "    Predict the labels and also calculate the decision and probability matrices.\n",
        "    \"\"\"\n",
        "    logger.info(\"begin finding decision and prob matrix\")\n",
        "    decision_matrix = model.decision_function(X_test)\n",
        "    probability_matrix = model.predict_proba(X_test)\n",
        "        # Get the predicted labels\n",
        "    y_pred = np.argmax(probability_matrix, axis=1)\n",
        "\n",
        "    return y_pred, decision_matrix, probability_matrix\n",
        "\n",
        "### Step 4: Predict Cell Types with Temporary Model Adjustment ###\n",
        "def predict_with_confidence(model, X_test_scaled, lr_idx, mode='best match', p_thres=0.5):\n",
        "    # Temporarily adjust the model's attributes to match filtered gene set\n",
        "    original_n_features = model.n_features_in_\n",
        "    original_coef = model.coef_\n",
        "\n",
        "    # Adjust model attributes for prediction\n",
        "    model.n_features_in_ = lr_idx.size\n",
        "    model.coef_ = model.coef_[:, lr_idx]\n",
        "\n",
        "    decision_matrix = model.decision_function(X_test_scaled)\n",
        "    probability_matrix = model.predict_proba(X_test_scaled)\n",
        "\n",
        "    # Restore original model attributes\n",
        "    model.n_features_in_ = original_n_features\n",
        "    model.coef_ = original_coef\n",
        "\n",
        "    # Make predictions based on mode\n",
        "    if mode == 'best match':\n",
        "        y_pred = np.argmax(probability_matrix, axis=1)\n",
        "    else:\n",
        "        y_pred = np.where(probability_matrix > p_thres, 1, 0)\n",
        "\n",
        "    return y_pred, decision_matrix, probability_matrix\n",
        "\n",
        "### Step 3: Gene Filtering to Match Model Features ###\n",
        "def previous_filter_genes(X_data, model_features, input_gene_names):\n",
        "    \"\"\"\n",
        "    Filter genes in the input data to match those used in the model.\n",
        "    \"\"\"\n",
        "    # Find common genes\n",
        "    matching_genes = np.isin(input_gene_names, model_features)\n",
        "\n",
        "    if matching_genes.sum() == 0:\n",
        "        raise ValueError(\"No matching genes between input data and model features.\")\n",
        "\n",
        "    # Filter input data and gene names\n",
        "    X_filtered = X_data[:, matching_genes]\n",
        "    filtered_gene_names = input_gene_names[matching_genes]\n",
        "\n",
        "    # Match input genes with model genes\n",
        "    model_gene_indices = pd.Series(model_features).isin(filtered_gene_names).values\n",
        "\n",
        "    return X_filtered, model_gene_indices\n",
        "\n",
        "def need_to_remove_0_for_wistar_filter_genes(X_data, model_features, input_gene_names):\n",
        "    # Identify the indices of input genes that match model features\n",
        "    matching_genes = np.isin(input_gene_names, model_features)\n",
        "    if matching_genes.sum() == 0:\n",
        "        raise ValueError(\"No matching genes between input data and model features.\")\n",
        "\n",
        "    # Order genes to match the model's features\n",
        "    k_x_idx = np.where(matching_genes)[0]\n",
        "    filtered_gene_names = input_gene_names[matching_genes]\n",
        "    lr_idx = pd.Series(model_features).reset_index().set_index(0).loc[filtered_gene_names, 'index'].values\n",
        "\n",
        "    # Filter X_data to contain only matching genes\n",
        "    X_filtered = X_data[:, k_x_idx]\n",
        "\n",
        "    return X_filtered, lr_idx\n",
        "\n",
        "def filter_genes(X_data, model_features, input_gene_names):\n",
        "    # Identify the indices of input genes that match model features\n",
        "    matching_genes = np.isin(input_gene_names, model_features)\n",
        "    if matching_genes.sum() == 0:\n",
        "        raise ValueError(\"No matching genes between input data and model features.\")\n",
        "\n",
        "    # Order genes to match the model's features\n",
        "    k_x_idx = np.where(matching_genes)[0]\n",
        "    filtered_gene_names = input_gene_names[matching_genes]\n",
        "\n",
        "    # Convert model_features into a DataFrame with explicit naming\n",
        "    model_features_df = pd.Series(model_features, name='feature_name').reset_index()\n",
        "\n",
        "    # Filter using filtered_gene_names\n",
        "    try:\n",
        "        lr_idx = model_features_df.set_index('feature_name').loc[filtered_gene_names, 'index'].values\n",
        "    except KeyError as e:\n",
        "        raise KeyError(f\"Some filtered_gene_names not found in model_features: {e}\")\n",
        "\n",
        "    # Filter X_data to contain only matching genes\n",
        "    X_filtered = X_data[:, k_x_idx]\n",
        "\n",
        "    return X_filtered, lr_idx\n",
        "\n",
        "\n",
        "### Step 4: Scaling the Data ###\n",
        "def previous_scale_data(X_data, scaler, gene_indices):\n",
        "    \"\"\"\n",
        "    Scale the input data using a provided StandardScaler.\n",
        "    \"\"\"\n",
        "    # Scale the data based on the provided scaler\n",
        "    X_scaled = (X_data - scaler.mean_[gene_indices]) / scaler.scale_[gene_indices]\n",
        "    X_scaled[X_scaled > 10] = 10  # Clip extreme values\n",
        "\n",
        "    return X_scaled\n",
        "\n",
        "def without_batch_scale_data(X_data, scaler, lr_idx):\n",
        "    # Scale data based on the indices of matching genes\n",
        "    X_scaled = (X_data - scaler.mean_[lr_idx]) / scaler.scale_[lr_idx]\n",
        "    X_scaled[X_scaled > 10] = 10  # Clip extreme values\n",
        "    return X_scaled\n",
        "\n",
        "\n",
        "def scale_data(X_data, scaler, train_gene_indices, batch_size=10000):\n",
        "    n_samples = X_data.shape[0]\n",
        "    scaled_data = []\n",
        "    for start in range(0, n_samples, batch_size):\n",
        "        end = min(start + batch_size, n_samples)\n",
        "        batch = X_data[start:end, :]\n",
        "        batch_scaled = (batch - scaler.mean_[train_gene_indices]) / scaler.scale_[train_gene_indices]\n",
        "        scaled_data.append(batch_scaled)\n",
        "    return np.vstack(scaled_data)\n",
        "\n",
        "def custom_log_loss_multiclass(X, y, betas, lambda_reg):\n",
        "    \"\"\"\n",
        "    Calculate the logistic loss with L2 regularization for a multi-class setting.\n",
        "\n",
        "    Parameters:\n",
        "    X (np.ndarray): Feature matrix, shape (n_samples, n_features).\n",
        "    y (np.ndarray): Labels, shape (n_samples,).\n",
        "    betas (np.ndarray): Logistic regression coefficients, shape (n_classes, n_features).\n",
        "    lambda_reg (float): Regularization parameter.\n",
        "\n",
        "    Returns:\n",
        "    float: Calculated average loss with regularization.\n",
        "    \"\"\"\n",
        "    n_classes, n_features = betas.shape\n",
        "    logger.info(f\"Number of classes: {n_classes}, Number of features: {n_features}\")\n",
        "\n",
        "    n_samples = X.shape[0]  # Number of samples\n",
        "    total_loss = 0.0\n",
        "\n",
        "    # Loop over each class to calculate the class-specific loss\n",
        "    for c in range(n_classes):\n",
        "        y_binary = (y == c).astype(int) * 2 - 1  # Convert to -1, 1\n",
        "        # Calculate the linear combination of features and coefficients for the current class\n",
        "        linear_combination = X.dot(betas[c])\n",
        "        # Calculate the logistic loss part for this class using np.logaddexp for stability\n",
        "        class_loss = np.sum(np.logaddexp(0, -linear_combination * y_binary))\n",
        "        # Add to total loss\n",
        "        total_loss += class_loss\n",
        "\n",
        "    # Average the total loss over all samples\n",
        "    average_loss = total_loss / (n_samples*n_classes)\n",
        "\n",
        "    # Add the L2 regularization term\n",
        "    regularization_term = (lambda_reg) * np.sum(betas ** 2)\n",
        "    #total_loss_with_reg = average_loss + regularization_term\n",
        "    logger.info(\"regularization term\")\n",
        "    logger.info(regularization_term)\n",
        "\n",
        "    return average_loss\n",
        "\n",
        "def without_weighted_custom_ovr_log_loss_with_scores(true_labels, predicted_probs):\n",
        "    \"\"\"\n",
        "    Custom one-vs-rest log loss calculation.\n",
        "\n",
        "    Parameters:\n",
        "    - true_labels: Array of true class indices.\n",
        "    - predicted_probs: 2D array of predicted probabilities (shape: [n_samples, n_classes]).\n",
        "\n",
        "    Returns:\n",
        "    - Average one-vs-rest log loss.\n",
        "    \"\"\"\n",
        "    n_samples, n_classes = predicted_probs.shape\n",
        "    epsilon = 1e-15  # To avoid log(0)\n",
        "    clipped_probs = np.clip(predicted_probs, epsilon, 1 - epsilon)\n",
        "    total_loss = 0.0\n",
        "\n",
        "    # Loop over each class to calculate the one-vs-rest log loss\n",
        "    for c in range(n_classes):\n",
        "        y_binary = (true_labels == c).astype(int)\n",
        "        class_loss = -np.sum(y_binary * np.log(clipped_probs[:, c]) + (1 - y_binary) * np.log(1 - clipped_probs[:, c]))\n",
        "        total_loss += class_loss\n",
        "\n",
        "    # Average over all samples and classes\n",
        "    average_loss = total_loss / (n_samples)\n",
        "    return average_loss\n",
        "\n",
        "\n",
        "def custom_ovr_log_loss_with_scores(true_labels, predicted_probs):\n",
        "    \"\"\"\n",
        "    Custom one-vs-rest log loss calculation with class weights.\n",
        "\n",
        "    Parameters:\n",
        "    - true_labels: Array of true class indices.\n",
        "    - predicted_probs: 2D array of predicted probabilities (shape: [n_samples, n_classes]).\n",
        "\n",
        "    Returns:\n",
        "    - Weighted average one-vs-rest log loss.\n",
        "    \"\"\"\n",
        "    n_samples, n_classes = predicted_probs.shape\n",
        "    epsilon = 1e-15  # To avoid log(0)\n",
        "    clipped_probs = np.clip(predicted_probs, epsilon, 1 - epsilon)\n",
        "    total_loss = 0.0\n",
        "\n",
        "    # Calculate class weights inversely proportional to class frequencies\n",
        "    class_counts = np.bincount(true_labels)\n",
        "    class_weights = 1.0 / (class_counts + epsilon)\n",
        "\n",
        "    # Loop over each class to calculate the one-vs-rest log loss\n",
        "    for c in range(n_classes):\n",
        "        y_binary = (true_labels == c).astype(int)\n",
        "        class_weight = class_weights[c] if c < len(class_weights) else 1.0\n",
        "        class_loss = -np.sum(y_binary * np.log(clipped_probs[:, c]) +\n",
        "                             (1 - y_binary) * np.log(1 - clipped_probs[:, c]))\n",
        "        total_loss += class_weight * class_loss\n",
        "\n",
        "    # Average over all samples and classes\n",
        "    average_loss = total_loss / n_samples\n",
        "    return average_loss\n",
        "\n",
        "### Full Pipeline Workflow ###\n",
        "def run_pipeline(selected_ada, X_train,X_train_entire, y_train,y_train_entire, X_test,y_test, gene_names,model_features, resolution=1.0, min_prop=0.0, C = 0.1):\n",
        "    \"\"\"\n",
        "    Run the full CellTypist-like pipeline.\n",
        "    \"\"\"\n",
        "    le = LabelEncoder()\n",
        "    all_labels = np.unique(np.concatenate([y_train_entire, y_test]))\n",
        "    le.fit(all_labels)\n",
        "\n",
        "\n",
        "    y_train_entire_encoded = le.transform(y_train_entire)\n",
        "    y_train_encoded = le.transform(y_train)\n",
        "    if np.isnan(y_train_encoded).any():\n",
        "        logger.info(\"Encoded y_train contains NaN values.\")\n",
        "\n",
        "\n",
        "    # Initialize the scaler and fit it on the training data\n",
        "    scaler = StandardScaler(with_mean=True, with_std=True)\n",
        "    #X_train_scaled = scaler.fit_transform(X_train.toarray())  # Convert to dense temporarily for scaling\n",
        "    #X_train_scaled = scaler.fit_transform(X_train.toarray()).astype(float)\n",
        "\n",
        "    #X_train_entire = scaler.fit_transform(X_train_entire.toarray()).astype(float)\n",
        "    #X_train_scaled = scaler.transform(X_train.toarray()).astype(float)\n",
        "\n",
        "\n",
        "    #X_train_scaled = scaler.fit_transform(X_train.toarray()).astype(float)\n",
        "    #X_train_entire_scaled = scaler.transform(X_train_entire.toarray()).astype(float)\n",
        "    X_train_filtered, train_gene_indices = filter_genes(X_train, model_features, gene_names)\n",
        "    X_train_filtered_scaled = scaler.fit_transform(X_train_filtered.toarray()).astype(float)\n",
        "    X_train_entire_filtered, train_entire_gene_indices = filter_genes(X_train_entire, model_features, gene_names)\n",
        "    X_train_entire_filtered_scaled = scale_data(X_train_entire_filtered.toarray(), scaler, train_gene_indices)\n",
        "\n",
        "    # Train Logistic Regression model\n",
        "    start = time.time()\n",
        "    clf = not_train_logistic_regression(X_train_filtered_scaled, y_train_encoded, C)\n",
        "    end = time.time()\n",
        "    taken = end-start\n",
        "    print(\"training taken seconds: \"+str(taken))\n",
        "    # Filter and scale the test data to match model features\n",
        "    X_test_filtered, gene_indices = filter_genes(X_test, model_features, gene_names)\n",
        "    X_test_scaled = scale_data(X_test_filtered.toarray(), scaler, gene_indices)\n",
        "\n",
        "\n",
        "    # Predict labels and calculate decision and probability matrices\n",
        "    begin_predict = time.time()\n",
        "    y_pred, decision_matrix, probability_matrix = predict_with_confidence(clf, X_test_scaled, gene_indices)\n",
        "    end_predict = time.time()\n",
        "    # logger.info(f\"Time taken for prediction: {end_predict-begin_predict:.4f} seconds\")\n",
        "\n",
        "    lambda_reg = 1 / (2 * clf.get_params()['C'])\n",
        "    beta = clf.coef_\n",
        "    #l2_penalty = lambda_reg * np.sum(beta ** 2)\n",
        "    #logger.info(f\"l2_penalty: {l2_penalty}\")\n",
        "\n",
        "\n",
        "    #loss2 = custom_log_loss_multiclass(X_train_filtered_scaled, y_train_encoded, beta, lambda_reg)\n",
        "    #logger.info(f\"previous Logistic loss for tilde beta + tilde H: {loss2}\")\n",
        "    _, _, prob_matrix_train_sampled = predict_with_confidence(clf, X_train_filtered_scaled, train_gene_indices)\n",
        "    log_loss_train_sampled = custom_ovr_log_loss_with_scores(y_train_encoded, prob_matrix_train_sampled)\n",
        "    # logger.info(f\"now Sampled Train Set Log Loss: {log_loss_train_sampled}\")\n",
        "\n",
        "\n",
        "\n",
        "\n",
        "    y_test_encoded = le.transform(y_test)\n",
        "    accuracy = accuracy_score(y_test_encoded, y_pred)\n",
        "    # logger.info(f\"Accuracy on test data: {accuracy}\")\n",
        "\n",
        "    class_counts = np.bincount(y_test_encoded)\n",
        "    class_weights = 1.0 / class_counts\n",
        "    sample_weights = class_weights[y_test_encoded]\n",
        "    weighted_accuracy = accuracy_score(y_test_encoded, y_pred, sample_weight=sample_weights)\n",
        "    macro_f1 = f1_score(y_test_encoded, y_pred, average='macro')\n",
        "    balanced_acc = balanced_accuracy_score(y_test_encoded, y_pred)\n",
        "    # Generate the classification report as a dictionary\n",
        "    report = classification_report(y_test_encoded, y_pred, output_dict=True)\n",
        "\n",
        "    # Convert the dictionary to a pandas DataFrame\n",
        "    report_df = pd.DataFrame(report).transpose()\n",
        "\n",
        "    #adding classification report code to add 2 more columns\n",
        "    dist_entire = y_train_entire.value_counts()\n",
        "    dist_sample = y_train.value_counts()\n",
        "    report_df[\"n_train_entire\"] = 0\n",
        "    report_df[\"n_train\"] = 0\n",
        "\n",
        "    for c in range(len(le.classes_)):\n",
        "        class_str_index = str(c)  # classification_report keys are strings of the class integer\n",
        "        if class_str_index in report_df.index:\n",
        "            # get the real string label from the numeric label\n",
        "            real_class_name = le.inverse_transform([c])[0]\n",
        "            # look up how many times that label appears in entire vs. sample\n",
        "            n_entire = dist_entire.get(real_class_name, 0)\n",
        "            n_sample = dist_sample.get(real_class_name, 0)\n",
        "            report_df.at[class_str_index, \"n_train_entire\"] = n_entire\n",
        "            report_df.at[class_str_index, \"n_train\"] = n_sample\n",
        "    #done adding the 2 columns\n",
        "\n",
        "    X_train_size = len(y_train)\n",
        "\n",
        "   #now plotting the confusion matrix\n",
        "    #y axis: true label. x axis: predicted\n",
        "    cm = confusion_matrix(y_test_encoded, y_pred)\n",
        "    # plt.figure(figsize=(8, 6))\n",
        "    # sns.heatmap(\n",
        "    #     cm,\n",
        "    #     annot=False,\n",
        "    #     cmap=\"Blues\",\n",
        "    #     #fmt=\"d\",\n",
        "    #     xticklabels=False,\n",
        "    #     yticklabels=False\n",
        "    #     #xticklabels=le.classes_,\n",
        "    #     #yticklabels=le.classes_\n",
        "    # )\n",
        "    # plt.xlabel(\"Predicted\")\n",
        "    # plt.ylabel(\"True\")\n",
        "    # plt.title(f\"Confusion Matrix (Train size = {X_train_size})\")\n",
        "    # plt.tight_layout()\n",
        "    # cm_file = (\n",
        "    #     f\"/storage/home/dvl5760/work/our_log_reg/change_coreset/add_loss/\"\n",
        "    #     f\"test_train_split/add_crossval_fix_cellnum/pdf/confusion_matrix_heca_size_{X_train_size}_0.1.pdf\"\n",
        "    # )\n",
        "    # # plt.savefig(cm_file)\n",
        "    # plt.close()\n",
        "    # logger.info(f\"Confusion matrix saved: {cm_file}\")\n",
        "    # logger.info(\"Class index → Actual class name\")\n",
        "    classes = np.unique(y_test)\n",
        "    log_loss_value = custom_ovr_log_loss_with_scores(y_test_encoded, probability_matrix)\n",
        "    _, _, prob_matrix_train_entire = predict_with_confidence(clf, X_train_entire_filtered_scaled, train_entire_gene_indices)\n",
        "    log_loss_train_entire = custom_ovr_log_loss_with_scores(y_train_entire_encoded, prob_matrix_train_entire)\n",
        "    # logger.info(f\"now Entire Train Set Log Loss: {log_loss_train_entire}\")\n",
        "\n",
        "\n",
        "    #prob_matrix_train_entire = clf.predict_proba(X_train_entire)\n",
        "    #log_loss_tilde_beta_H = log_loss(y_train_entire, prob_matrix_train_entire, labels = np.unique(y_train_entire))\n",
        "    #logger.info(f\"Log loss for tilde beta + H: {log_loss_tilde_beta_H}\")\n",
        "\n",
        "    #probability_matrix_full = clf.predict_proba(np.concatenate([X_train_scaled, X_test_scaled]))\n",
        "    #y_full_encoded = np.concatenate([y_train_encoded, y_test_encoded])\n",
        "    #log_loss_tilde_beta_H_test_train = log_loss(y_full_encoded, probability_matrix_full)\n",
        "    #logger.info(f\"Logistic loss for tilde beta + H test train: {log_loss_tilde_beta_H_test_train}\")\n",
        "\n",
        "    y_pred_str = np.where(y_pred == -1, 'Heterogeneous', y_pred)\n",
        "    y_pred_str = le.inverse_transform(y_pred_str[y_pred_str != 'Heterogeneous'].astype(int))\n",
        "\n",
        "    return y_pred_str, clf, X_test_scaled, le\n",
        "\n",
        "\n",
        "\n",
        "from sklearn.model_selection import train_test_split\n",
        "from sklearn.preprocessing import StandardScaler\n",
        "from sklearn.pipeline import Pipeline\n",
        "from sklearn.impute import SimpleImputer\n",
        "from sklearn.metrics import accuracy_score, classification_report\n",
        "\n",
        "# Models\n",
        "from sklearn.linear_model import LogisticRegression, LinearRegression\n",
        "from sklearn.ensemble import RandomForestClassifier, GradientBoostingClassifier\n",
        "from sklearn.svm import SVC\n",
        "from sklearn.neighbors import KNeighborsClassifier\n",
        "\n",
        "def run_ML_previous(adata_train, adata_test):\n",
        "    adata_train.obsm['raw'] = adata_train.X\n",
        "    adata_test.obsm['raw'] = adata_test.X\n",
        "\n",
        "    # label_key = 'niche'\n",
        "    X_feature = 'raw'\n",
        "    X_train = adata_train.obsm[X_feature]\n",
        "    y_train = adata_train.obs[key]\n",
        "    X_test = adata_test.obsm[X_feature]\n",
        "    y_test = adata_test.obs[key]\n",
        "\n",
        "    # -------------------------------\n",
        "    # Preprocessing (numeric only)\n",
        "    # -------------------------------\n",
        "    numeric_preprocessor = Pipeline(steps=[\n",
        "        # (\"imputer\", SimpleImputer(strategy=\"mean\")),\n",
        "        (\"scaler\", StandardScaler())\n",
        "    ])\n",
        "    # -------------------------------\n",
        "    # Models to train\n",
        "    # -------------------------------\n",
        "    models = {\n",
        "        # \"Logistic Regression\": LogisticRegression(),\n",
        "        \"Random Forest\": RandomForestClassifier(n_estimators=50, random_state=42, verbose=1, n_jobs=-1),\n",
        "        # \"SVM\": SVC(probability=True),\n",
        "        # \"Gradient Boosting\": GradientBoostingClassifier(),\n",
        "        # \"KNN\": KNeighborsClassifier(n_neighbors=5)\n",
        "    }\n",
        "\n",
        "    # -------------------------------\n",
        "    # Train + Evaluate each model\n",
        "    # -------------------------------\n",
        "    for name, model in models.items():\n",
        "        clf = Pipeline(steps=[\n",
        "            # (\"preprocessor\", numeric_preprocessor),\n",
        "            (\"classifier\", model)\n",
        "        ])\n",
        "        start = time.time()\n",
        "        clf.fit(X_train, y_train)\n",
        "        end = time.time()\n",
        "        taken = end-start\n",
        "        print(\"training taken seconds: \"+str(taken))\n",
        "        y_pred = clf.predict(X_test)\n",
        "\n",
        "        print(f\"\\n🔹 {name} Results:\")\n",
        "        print(\"Accuracy:\", accuracy_score(y_test, y_pred))\n",
        "        print(classification_report(y_test, y_pred))\n",
        "        # Accuracy: 0.5990644906500354\n",
        "\n",
        "\n",
        "from math import ceil\n",
        "from tqdm.auto import tqdm\n",
        "\n",
        "\n",
        "def run_ML(adata_train, adata_test):\n",
        "    # cache current X into obsm\n",
        "    adata_train.obsm['raw'] = adata_train.X\n",
        "    adata_test.obsm['raw'] = adata_test.X\n",
        "\n",
        "    # ---- features / labels ----\n",
        "    X_feature = 'raw'\n",
        "    X_train = adata_train.obsm[X_feature]\n",
        "    X_test  = adata_test.obsm[X_feature]\n",
        "\n",
        "    # NOTE: expects 'key' to be defined in your outer scope\n",
        "    y_train = adata_train.obs[key]\n",
        "    y_test  = adata_test.obs[key]\n",
        "\n",
        "    # ---- optional numeric preproc (not used for RF) ----\n",
        "    numeric_preprocessor = Pipeline(steps=[\n",
        "        # (\"imputer\", SimpleImputer(strategy=\"mean\")),\n",
        "        (\"scaler\", StandardScaler())\n",
        "    ])\n",
        "\n",
        "    # ---- models to train ----\n",
        "    models = {\n",
        "        # \"Logistic Regression\": LogisticRegression(),\n",
        "        \"Random Forest\": RandomForestClassifier(\n",
        "            n_estimators=50,            # target total trees\n",
        "            random_state=42,\n",
        "            n_jobs=-1,\n",
        "            verbose=0                  # we'll manage progress ourselves\n",
        "        ),\n",
        "        # \"SVM\": SVC(probability=True),\n",
        "        # \"KNN\": KNeighborsClassifier(n_neighbors=5),\n",
        "    }\n",
        "\n",
        "    # ---- train & evaluate ----\n",
        "    for name, model in models.items():\n",
        "        print(f\"\\n🚀 Training: {name}\")\n",
        "\n",
        "        # Build a pipeline (kept for consistency; RF doesn't need scaling)\n",
        "        clf = Pipeline(steps=[\n",
        "            # (\"preprocessor\", numeric_preprocessor),\n",
        "            (\"classifier\", model)\n",
        "        ])\n",
        "\n",
        "        # Special handling for RandomForest to show a real progress bar\n",
        "        if isinstance(model, RandomForestClassifier):\n",
        "            # Extract params and convert to warm_start with incremental fitting\n",
        "            params = model.get_params()\n",
        "            total_trees = params.pop(\"n_estimators\", 50)\n",
        "            trees_per_step = 10  # adjust chunk size if you want fewer/more updates\n",
        "\n",
        "            # Recreate RF with warm_start so we can grow it gradually\n",
        "            rf = RandomForestClassifier(\n",
        "                **{**params, \"n_estimators\": 0, \"warm_start\": True, \"verbose\": 0}\n",
        "            )\n",
        "            clf = Pipeline(steps=[(\"classifier\", rf)])\n",
        "\n",
        "            steps = ceil(total_trees / trees_per_step)\n",
        "            start_all = time.time()\n",
        "\n",
        "            for _ in tqdm(range(steps), desc=f\"Building {name}\"):\n",
        "                next_n = min(rf.n_estimators + trees_per_step, total_trees)\n",
        "                rf.set_params(n_estimators=next_n)\n",
        "\n",
        "                t0 = time.time()\n",
        "                clf.fit(X_train, y_train)\n",
        "                t1 = time.time()\n",
        "                print(f\"  • {rf.n_estimators}/{total_trees} trees \"\n",
        "                      f\"(this step: {t1 - t0:.1f}s)\")\n",
        "\n",
        "            end_all = time.time()\n",
        "            print(f\"⏳ Total training time: {end_all - start_all:.1f}s\")\n",
        "\n",
        "        else:\n",
        "            # Default: single fit with simple timing\n",
        "            start = time.time()\n",
        "            clf.fit(X_train, y_train)\n",
        "            end = time.time()\n",
        "            print(f\"⏳ Training time: {end - start:.1f}s\")\n",
        "\n",
        "        # ---- evaluate ----\n",
        "        y_pred = clf.predict(X_test)\n",
        "        print(f\"\\n🔹 {name} Results:\")\n",
        "        print(\"Accuracy:\", accuracy_score(y_test, y_pred))\n",
        "        print(classification_report(y_test, y_pred))"
      ],
      "metadata": {
        "colab": {
          "base_uri": "https://localhost:8080/"
        },
        "id": "sBTYWB8hFH6_",
        "outputId": "7cf50d3f-b04b-4c0e-994a-48f6f9d61996"
      },
      "execution_count": null,
      "outputs": [
        {
          "output_type": "stream",
          "name": "stderr",
          "text": [
            "2025-10-21 00:48:32,728 - __main__ - INFO - done importing stuff\n",
            "2025-10-21 00:48:32,728 - __main__ - INFO - done importing stuff\n",
            "2025-10-21 00:48:32,728 - __main__ - INFO - done importing stuff\n",
            "2025-10-21 00:48:32,728 - __main__ - INFO - done importing stuff\n",
            "2025-10-21 00:48:32,728 - __main__ - INFO - done importing stuff\n",
            "INFO:__main__:done importing stuff\n"
          ]
        }
      ]
    },
    {
      "cell_type": "markdown",
      "source": [
        "#Human Breast Cancer Dataset"
      ],
      "metadata": {
        "id": "x_1_wvEM3zRn"
      }
    },
    {
      "cell_type": "code",
      "source": [
        "# Dataset with niche label\n",
        "# data source: https://drive.google.com/drive/folders/1fnSfIHzmOm-oiY2UVVLpM0xYDsvzaU5y\n",
        "breast_cancer = anndata.read_h5ad(\"/content/drive/MyDrive/Copy of xenium_human_breast_cancer_analysis.h5ad\")"
      ],
      "metadata": {
        "id": "YkCSUevuJYJA"
      },
      "execution_count": null,
      "outputs": []
    },
    {
      "cell_type": "code",
      "source": [
        "# sc.pp.normalize_total(breast_cancer, target_sum=1e4)\n",
        "# sc.pp.log1p(breast_cancer)\n",
        "# pre-process the data since celltypist checks this"
      ],
      "metadata": {
        "id": "C-dYVxmsTX_A"
      },
      "execution_count": null,
      "outputs": []
    },
    {
      "cell_type": "code",
      "source": [
        "batches = np.unique(breast_cancer.obs['batch'])\n",
        "print(batches)\n",
        "adata_train = breast_cancer[breast_cancer.obs['batch']==batches[0],]\n",
        "adata_test = breast_cancer[breast_cancer.obs['batch']==batches[1],]"
      ],
      "metadata": {
        "colab": {
          "base_uri": "https://localhost:8080/"
        },
        "id": "tHX0YdonTZpF",
        "outputId": "494868d2-431a-4133-e7c6-7628a2a9dcb5"
      },
      "execution_count": null,
      "outputs": [
        {
          "output_type": "stream",
          "name": "stdout",
          "text": [
            "['Replicate 1' 'Replicate 2']\n"
          ]
        }
      ]
    },
    {
      "cell_type": "code",
      "source": [
        "np.shape(adata_train), np.shape(adata_test)"
      ],
      "metadata": {
        "colab": {
          "base_uri": "https://localhost:8080/"
        },
        "id": "6tqOlVvpLXe6",
        "outputId": "7fe94871-6616-452d-f52c-15586c810598"
      },
      "execution_count": null,
      "outputs": [
        {
          "output_type": "execute_result",
          "data": {
            "text/plain": [
              "((164000, 313), (118363, 313))"
            ]
          },
          "metadata": {},
          "execution_count": 48
        }
      ]
    },
    {
      "cell_type": "code",
      "source": [
        "key = \"niche\"\n",
        "batch_size=1000\n",
        "C = 0.1"
      ],
      "metadata": {
        "id": "cseVmk22L_Wb"
      },
      "execution_count": null,
      "outputs": []
    },
    {
      "cell_type": "code",
      "source": [
        "cell_type_counts = adata_train.obs[key].value_counts()\n",
        "plt.figure(figsize=(6, 3))\n",
        "cell_type_counts.plot(kind='bar', color='skyblue')\n",
        "plt.title(\"Cell Type Distribution\")\n",
        "plt.xlabel(\"Cell Type\")\n",
        "plt.ylabel(\"Count\")\n",
        "plt.xticks(rotation=45, ha=\"right\")\n",
        "plt.tight_layout()\n",
        "plt.show()"
      ],
      "metadata": {
        "colab": {
          "base_uri": "https://localhost:8080/",
          "height": 307
        },
        "id": "xoUrnyMW7CGB",
        "outputId": "2da47d9e-0674-4cc0-e34c-9c13939813a8"
      },
      "execution_count": null,
      "outputs": [
        {
          "output_type": "display_data",
          "data": {
            "text/plain": [
              "<Figure size 600x300 with 1 Axes>"
            ],
            "image/png": "[encoded data removed]"
          },
          "metadata": {}
        }
      ]
    },
    {
      "cell_type": "code",
      "source": [
        "if sparse.issparse(adata_train.X):\n",
        "    adata_train.X = adata_train.X.tocsr().astype(np.float32)\n",
        "else:\n",
        "    X = np.asarray(adata_train.X, dtype=np.float32)\n",
        "    # Replace non-finite values\n",
        "    bad = ~np.isfinite(X)\n",
        "    if bad.any():\n",
        "        X[bad] = 0.0\n",
        "    adata_train.X = X\n",
        "if sparse.issparse(adata_test.X):\n",
        "    adata_test.X = adata_test.X.tocsr().astype(np.float32)\n",
        "else:\n",
        "    Xte = np.asarray(adata_test.X, dtype=np.float32)\n",
        "    Xte[~np.isfinite(Xte)] = 0.0\n",
        "    adata_test.X = Xte\n",
        "# do this so that google collab does not crash"
      ],
      "metadata": {
        "id": "s_sIdipMUmUv"
      },
      "execution_count": null,
      "outputs": []
    },
    {
      "cell_type": "code",
      "source": [],
      "metadata": {
        "id": "QJpFg6-fPbEB"
      },
      "execution_count": null,
      "outputs": []
    },
    {
      "cell_type": "code",
      "source": [
        "adata_train = SelfGraphConv(adata_train)\n",
        "adata_test = SelfGraphConv(adata_test)"
      ],
      "metadata": {
        "colab": {
          "base_uri": "https://localhost:8080/"
        },
        "id": "kjIQFBM4PTBr",
        "outputId": "bcb41ca5-25f9-48a6-bf02-9946e0d736a4"
      },
      "execution_count": null,
      "outputs": [
        {
          "output_type": "stream",
          "name": "stderr",
          "text": [
            "/usr/local/lib/python3.12/dist-packages/scipy/sparse/_index.py:201: SparseEfficiencyWarning: Changing the sparsity structure of a csr_matrix is expensive. lil and dok are more efficient.\n",
            "  self._set_arrayXarray_sparse(i, j, x)\n",
            "/usr/local/lib/python3.12/dist-packages/scipy/sparse/_index.py:201: SparseEfficiencyWarning: Changing the sparsity structure of a csr_matrix is expensive. lil and dok are more efficient.\n",
            "  self._set_arrayXarray_sparse(i, j, x)\n"
          ]
        }
      ]
    },
    {
      "cell_type": "code",
      "source": [
        "sc.pp.normalize_total(adata_train, target_sum=1e4)\n",
        "sc.pp.log1p(adata_train)\n",
        "\n",
        "sc.pp.normalize_total(adata_test, target_sum=1e4)\n",
        "sc.pp.log1p(adata_test)"
      ],
      "metadata": {
        "id": "Jmat-ViEPegW"
      },
      "execution_count": null,
      "outputs": []
    },
    {
      "cell_type": "markdown",
      "source": [
        "##CellTypist Method"
      ],
      "metadata": {
        "id": "V5kaEmw55CL4"
      }
    },
    {
      "cell_type": "code",
      "source": [
        "start = time.time()\n",
        "my_model = celltypist.train(adata_train, key,alpha=1/(C*len(adata_train)), feature_selection=False, check_expression = True,use_SGD = True,mini_batch = True, batch_size=batch_size, batch_number=100)\n",
        "end=time.time()\n",
        "taken = end-start\n",
        "print(\"training taken seconds: \"+str(taken))"
      ],
      "metadata": {
        "id": "j-4uZyDMNab8",
        "colab": {
          "base_uri": "https://localhost:8080/"
        },
        "outputId": "3cab53f3-a140-4f9c-8167-2d81acd35b6e"
      },
      "execution_count": null,
      "outputs": [
        {
          "output_type": "stream",
          "name": "stdout",
          "text": [
            "training taken seconds: 121.6477382183075\n"
          ]
        }
      ]
    },
    {
      "cell_type": "code",
      "source": [
        "start = time.time()\n",
        "predictions = celltypist.annotate(adata_test, model = my_model,majority_voting = False,mode = 'best match')\n",
        "end = time.time()\n",
        "taken = end-start\n",
        "print(\"testing taken seconds: \"+str(taken))"
      ],
      "metadata": {
        "id": "73Uu6EtxTHn1",
        "colab": {
          "base_uri": "https://localhost:8080/"
        },
        "outputId": "0409550e-0176-46d0-f2fb-1633daac69e6"
      },
      "execution_count": null,
      "outputs": [
        {
          "output_type": "stream",
          "name": "stdout",
          "text": [
            "testing taken seconds: 0.8541252613067627\n"
          ]
        }
      ]
    },
    {
      "cell_type": "code",
      "source": [
        "predicted_labels = predictions.predicted_labels.values\n",
        "true_labels = adata_test.obs[key]\n",
        "accuracy = accuracy_score(true_labels, predicted_labels)\n",
        "print(\"Accuracy:\", accuracy)"
      ],
      "metadata": {
        "colab": {
          "base_uri": "https://localhost:8080/"
        },
        "id": "wdAHwlibYQTV",
        "outputId": "d2f49226-0b3d-4544-b418-b4010a20a890"
      },
      "execution_count": null,
      "outputs": [
        {
          "output_type": "stream",
          "name": "stdout",
          "text": [
            "Accuracy: 0.7953836925390536\n"
          ]
        }
      ]
    },
    {
      "cell_type": "code",
      "source": [
        "print(classification_report(true_labels, predicted_labels))"
      ],
      "metadata": {
        "colab": {
          "base_uri": "https://localhost:8080/"
        },
        "id": "hbgMCH7CYt16",
        "outputId": "0b586a29-ae59-4b93-ff86-d419f6324ec7"
      },
      "execution_count": null,
      "outputs": [
        {
          "output_type": "stream",
          "name": "stdout",
          "text": [
            "              precision    recall  f1-score   support\n",
            "\n",
            "       CD4+T       0.84      0.86      0.85     30162\n",
            "    EMT-Endo       0.69      0.54      0.61       310\n",
            "  EMT-Immune       0.84      0.91      0.87     24134\n",
            "      EMT-MØ       0.93      0.65      0.76      1035\n",
            "  Epi-Bcells       0.00      0.00      0.00         1\n",
            "  Epi-Immune       0.91      0.77      0.83      9780\n",
            "      FB-EMT       0.84      0.79      0.81      6765\n",
            "     FB-Endo       0.26      0.21      0.23      1804\n",
            "      FB-Epi       0.73      0.97      0.83     25364\n",
            " FB-Lymphoid       0.67      0.55      0.61      7198\n",
            "  FB-Myeloid       0.76      0.45      0.57      8342\n",
            "Mast-Stromal       0.00      0.00      0.00      3468\n",
            "\n",
            "    accuracy                           0.80    118363\n",
            "   macro avg       0.62      0.56      0.58    118363\n",
            "weighted avg       0.77      0.80      0.78    118363\n",
            "\n"
          ]
        }
      ]
    },
    {
      "cell_type": "code",
      "source": [
        "y_refine = cKD_refine_label(np.array(adata_test.obsm['spatial']), predicted_labels, k = 50)\n",
        "print(\"Accuracy:\", accuracy_score(y_refine, true_labels))\n",
        "print(classification_report(y_refine, predicted_labels))"
      ],
      "metadata": {
        "colab": {
          "base_uri": "https://localhost:8080/"
        },
        "id": "W4PCe2lVNtMf",
        "outputId": "939cb18a-98b9-440a-f340-37eef543907c"
      },
      "execution_count": null,
      "outputs": [
        {
          "output_type": "stream",
          "name": "stdout",
          "text": [
            "Accuracy: 0.8561374753934929\n",
            "              precision    recall  f1-score   support\n",
            "\n",
            "       CD4+T       0.89      0.83      0.86     33146\n",
            "    EMT-Endo       0.46      0.86      0.60       130\n",
            "  EMT-Immune       0.89      0.89      0.89     26068\n",
            "      EMT-MØ       0.89      0.68      0.77       937\n",
            "  Epi-Bcells       0.00      0.00      0.00         0\n",
            "  Epi-Immune       0.88      0.82      0.85      8754\n",
            "      FB-EMT       0.85      0.80      0.83      6739\n",
            "     FB-Endo       0.09      0.51      0.16       266\n",
            "      FB-Epi       0.84      0.89      0.86     31846\n",
            " FB-Lymphoid       0.65      0.72      0.69      5300\n",
            "  FB-Myeloid       0.71      0.68      0.69      5177\n",
            "\n",
            "    accuracy                           0.84    118363\n",
            "   macro avg       0.65      0.70      0.65    118363\n",
            "weighted avg       0.85      0.84      0.85    118363\n",
            "\n"
          ]
        }
      ]
    },
    {
      "cell_type": "markdown",
      "source": [
        "##Coreset Log Reg Methods"
      ],
      "metadata": {
        "id": "_yllcSkzJmqy"
      }
    },
    {
      "cell_type": "code",
      "source": [],
      "metadata": {
        "id": "9MFos0bAaYgW",
        "colab": {
          "base_uri": "https://localhost:8080/"
        },
        "outputId": "f6ea5b3f-dc08-4401-f672-90230c02060d"
      },
      "execution_count": null,
      "outputs": [
        {
          "output_type": "stream",
          "name": "stderr",
          "text": [
            "2025-10-21 00:02:54,260 - __main__ - INFO - done importing stuff\n",
            "INFO:__main__:done importing stuff\n"
          ]
        }
      ]
    },
    {
      "cell_type": "code",
      "source": [
        "X_train = adata_train.X\n",
        "y_train = adata_train.obs[key]\n",
        "X_test = adata_test.X\n",
        "y_test = adata_test.obs[key]\n",
        "\n",
        "train_distribution = y_train.value_counts()\n",
        "test_distribution = y_test.value_counts()\n",
        "\n",
        "if not isinstance(X_train, csr_matrix):\n",
        "    X_train = csr_matrix(X_train)\n",
        "\n",
        "if not isinstance(X_test, csr_matrix):\n",
        "    X_test = csr_matrix(X_test)\n",
        "\n",
        "# Check for NaN values in X_train\n",
        "if np.isnan(X_train.toarray()).any():\n",
        "    logger.info(\"X_train contains NaN values.\")\n",
        "\n",
        "# Check for NaN values in y_train\n",
        "if y_train.isnull().any():\n",
        "    logger.info(\"y_train contains NaN values.\")\n",
        "\n",
        "coreset_ratio = [0.1]\n",
        "coreset_size = []\n",
        "for ratio in coreset_ratio:\n",
        "    size = int(ratio*(X_train.shape[0]))\n",
        "    coreset_size.append(size)\n",
        "\n",
        "num_unique_cell_types = len(cell_type_counts)\n",
        "\n",
        "for size in coreset_size:\n",
        "    num_per_cell_type = int(size/num_unique_cell_types)\n",
        "    # logger.info(\"for each cell type, we sample\")\n",
        "    # logger.info(num_per_cell_type)\n",
        "\n",
        "    # logger.info(\"begin sampling\")\n",
        "    start = time.time()\n",
        "    sampled_indices = celltypist.samples.downsample_adata(adata=adata_train, mode=\"each\",n_cells=num_per_cell_type, by=key, random_state=42, return_index=True)\n",
        "    #sampled_indices = np.random.choice(X_train.shape[0], size=size, replace=False)\n",
        "    sampled_X_train = X_train[sampled_indices, :]\n",
        "    sampled_y_train = y_train[sampled_indices]\n",
        "\n",
        "    if np.isnan(sampled_X_train.toarray()).any():\n",
        "        logger.info(\"X_train contains NaN values.\")\n",
        "    if sampled_y_train.isnull().any():\n",
        "        logger.info(\"y_train contains NaN values.\")\n",
        "\n",
        "    if sampled_y_train.nunique() < 2:\n",
        "        raise ValueError(\"y_train must contain at least two unique classes.\")\n",
        "\n",
        "    sampled_train_distribution = sampled_y_train.value_counts()\n",
        "\n",
        "    gene_names = adata_test.var_names #test data gene names\n",
        "    model_features = adata_train.var_names #train data gene names\n",
        "    y_pred, clf, X_test_scaled, le = run_pipeline(adata_test,sampled_X_train,X_train, sampled_y_train,y_train, X_test,y_test, gene_names, model_features, resolution=0.5, min_prop=0.2, C = 0.01)\n",
        "    print(\"Accuracy:\", accuracy_score(y_test, y_pred))\n",
        "    print(classification_report(y_test, y_pred))"
      ],
      "metadata": {
        "id": "u8r7mC69JxnA",
        "colab": {
          "base_uri": "https://localhost:8080/"
        },
        "outputId": "b32d6d6a-f10f-4f91-a464-52b71797991e"
      },
      "execution_count": null,
      "outputs": [
        {
          "output_type": "stream",
          "name": "stdout",
          "text": [
            "training taken seconds: 5.840990304946899\n",
            "Accuracy: 0.8135734984750302\n",
            "              precision    recall  f1-score   support\n",
            "\n",
            "       CD4+T       0.88      0.84      0.86     30162\n",
            "    EMT-Endo       0.26      0.92      0.41       310\n",
            "  EMT-Immune       0.92      0.84      0.88     24134\n",
            "      EMT-MØ       0.59      0.94      0.73      1035\n",
            "  Epi-Bcells       0.00      0.00      0.00         1\n",
            "  Epi-Immune       0.87      0.82      0.84      9780\n",
            "      FB-EMT       0.75      0.86      0.80      6765\n",
            "     FB-Endo       0.23      0.51      0.32      1804\n",
            "      FB-Epi       0.97      0.91      0.94     25364\n",
            " FB-Lymphoid       0.54      0.74      0.62      7198\n",
            "  FB-Myeloid       0.64      0.75      0.69      8342\n",
            "Mast-Stromal       0.00      0.00      0.00      3468\n",
            "\n",
            "    accuracy                           0.81    118363\n",
            "   macro avg       0.55      0.68      0.59    118363\n",
            "weighted avg       0.82      0.81      0.81    118363\n",
            "\n"
          ]
        }
      ]
    },
    {
      "cell_type": "code",
      "source": [
        "y_refine = cKD_refine_label(np.array(adata_test.obsm['spatial']), y_pred, k = 50)\n",
        "print(\"Accuracy:\", accuracy_score(y_refine, y_test))\n",
        "print(classification_report(y_refine, y_test))"
      ],
      "metadata": {
        "id": "5Gbs5L4MJxpo",
        "colab": {
          "base_uri": "https://localhost:8080/"
        },
        "outputId": "aaa4384c-c106-4a69-dda1-93b18607eecd"
      },
      "execution_count": null,
      "outputs": [
        {
          "output_type": "stream",
          "name": "stdout",
          "text": [
            "Accuracy: 0.8893573160531585\n",
            "              precision    recall  f1-score   support\n",
            "\n",
            "       CD4+T       0.92      0.89      0.90     31139\n",
            "    EMT-Endo       0.96      0.71      0.82       421\n",
            "  EMT-Immune       0.94      0.97      0.96     23514\n",
            "      EMT-MØ       1.00      0.71      0.83      1465\n",
            "  Epi-Bcells       0.00      0.00      0.00         0\n",
            "  Epi-Immune       0.88      0.98      0.93      8798\n",
            "      FB-EMT       0.95      0.89      0.92      7230\n",
            "     FB-Endo       0.58      0.50      0.53      2097\n",
            "      FB-Epi       0.96      0.96      0.96     25389\n",
            " FB-Lymphoid       0.84      0.69      0.76      8721\n",
            "  FB-Myeloid       0.83      0.72      0.77      9589\n",
            "Mast-Stromal       0.00      0.00      0.00         0\n",
            "\n",
            "    accuracy                           0.89    118363\n",
            "   macro avg       0.74      0.67      0.70    118363\n",
            "weighted avg       0.91      0.89      0.90    118363\n",
            "\n"
          ]
        }
      ]
    },
    {
      "cell_type": "markdown",
      "source": [
        "##Random Forest Method"
      ],
      "metadata": {
        "id": "mD5MAc7DI5u9"
      }
    },
    {
      "cell_type": "code",
      "source": [
        "run_ML(adata_train, adata_test)"
      ],
      "metadata": {
        "colab": {
          "base_uri": "https://localhost:8080/",
          "height": 585,
          "referenced_widgets": [
            "44034db22c624714b4cc74b87891573f",
            "b256c524d9e24f569862ed349f86a4ba",
            "3e65d00016dd42e58a4a268338e54318",
            "ba5ca7ec92864799b45915d96d8d2843",
            "b727b8a7e0db483b88530b6f7d65e7d9",
            "97f99ba219ef45efa54086d169b34d6a",
            "596da9403acf425eb0c2cca038df3bde",
            "3fb6b0ab878940168fd5ca9aaf0e8b1e",
            "8def4209cfd54bb7b702fbfacc8fce3f",
            "ce3021c473c04d41bf0f58877b276b59",
            "0e5547cb89754c7785ec6f32bb8fe67d"
          ]
        },
        "id": "ydzxDWOnI9eL",
        "outputId": "68395472-b6a8-4c39-8653-e3bdfcf9d435"
      },
      "execution_count": null,
      "outputs": [
        {
          "output_type": "stream",
          "name": "stdout",
          "text": [
            "\n",
            "🚀 Training: Random Forest\n"
          ]
        },
        {
          "output_type": "display_data",
          "data": {
            "text/plain": [
              "Building Random Forest:   0%|          | 0/5 [00:00<?, ?it/s]"
            ],
            "application/vnd.jupyter.widget-view+json": {
              "version_major": 2,
              "version_minor": 0,
              "model_id": "44034db22c624714b4cc74b87891573f"
            }
          },
          "metadata": {}
        },
        {
          "output_type": "stream",
          "name": "stdout",
          "text": [
            "  • 10/50 trees (this step: 153.3s)\n",
            "  • 20/50 trees (this step: 151.6s)\n",
            "  • 30/50 trees (this step: 152.3s)\n",
            "  • 40/50 trees (this step: 153.4s)\n",
            "  • 50/50 trees (this step: 152.7s)\n",
            "⏳ Total training time: 763.3s\n",
            "\n",
            "🔹 Random Forest Results:\n",
            "Accuracy: 0.8134383210969645\n",
            "              precision    recall  f1-score   support\n",
            "\n",
            "       CD4+T       0.72      0.96      0.82     30162\n",
            "    EMT-Endo       0.99      0.24      0.38       310\n",
            "  EMT-Immune       0.84      0.89      0.87     24134\n",
            "      EMT-MØ       0.87      0.73      0.79      1035\n",
            "  Epi-Bcells       0.00      0.00      0.00         1\n",
            "  Epi-Immune       0.96      0.77      0.85      9780\n",
            "      FB-EMT       0.86      0.78      0.82      6765\n",
            "     FB-Endo       0.45      0.42      0.43      1804\n",
            "      FB-Epi       0.95      0.94      0.95     25364\n",
            " FB-Lymphoid       0.58      0.53      0.55      7198\n",
            "  FB-Myeloid       0.88      0.45      0.59      8342\n",
            "Mast-Stromal       0.00      0.00      0.00      3468\n",
            "\n",
            "    accuracy                           0.81    118363\n",
            "   macro avg       0.67      0.56      0.59    118363\n",
            "weighted avg       0.80      0.81      0.80    118363\n",
            "\n"
          ]
        }
      ]
    },
    {
      "cell_type": "markdown",
      "source": [
        "##GIN Method"
      ],
      "metadata": {
        "id": "80CCKBSWL2ta"
      }
    },
    {
      "cell_type": "code",
      "source": [
        "# import torch\n",
        "# print(torch.__version__)\n",
        "# !pip install torch-scatter torch-sparse torch-cluster torch-spline-conv torch-geometric \\\n",
        "  # -f https://data.pyg.org/whl/torch-2.8.0+cu126.html\n",
        "\n",
        "import torch\n",
        "import torch_geometric\n",
        "from torch_geometric.loader import DataLoader\n",
        "\n",
        "print(\"Torch version:\", torch.__version__)\n",
        "print(\"PyG version:\", torch_geometric.__version__)\n",
        "print(\"✅ PyTorch Geometric successfully installed!\")"
      ],
      "metadata": {
        "colab": {
          "base_uri": "https://localhost:8080/"
        },
        "id": "HzTXknbicpuS",
        "outputId": "a6bdf9da-fa79-4579-8a24-7be40649218a"
      },
      "execution_count": null,
      "outputs": [
        {
          "output_type": "stream",
          "name": "stdout",
          "text": [
            "Torch version: 2.8.0+cu126\n",
            "PyG version: 2.7.0\n",
            "✅ PyTorch Geometric successfully installed!\n"
          ]
        }
      ]
    },
    {
      "cell_type": "code",
      "source": [
        "adata_train.obsm['raw'] = adata_train.X\n",
        "adata_test.obsm['raw'] = adata_test.X\n",
        "\n",
        "label_key = 'niche'\n",
        "X_feature = 'raw'\n",
        "X_train = adata_train.obsm[X_feature]\n",
        "y_train = adata_train.obs[label_key]\n",
        "X_test = adata_test.obsm[X_feature]\n",
        "y_test = adata_test.obs[label_key]\n",
        "\n",
        "import torch\n",
        "import torch.nn.functional as F\n",
        "from torch_geometric.nn import GCNConv\n",
        "from torch_geometric.data import Data\n",
        "from sklearn.neighbors import NearestNeighbors\n",
        "import numpy as np\n",
        "def build_knn_graph(adata, k=10, feature_key=\"X_pca\", label_key=None, label_encoder=None):\n",
        "    coords = adata.obsm[\"spatial\"]\n",
        "\n",
        "    # pick features\n",
        "    if feature_key == \"raw\":\n",
        "        features = adata.X.toarray() if not isinstance(adata.X, np.ndarray) else adata.X\n",
        "    else:\n",
        "        features = adata.obsm[feature_key]\n",
        "\n",
        "    # build kNN graph\n",
        "    nbrs = NearestNeighbors(n_neighbors=k+1).fit(coords)\n",
        "    _, indices = nbrs.kneighbors(coords)\n",
        "    edge_index = []\n",
        "    for i, neighs in enumerate(indices):\n",
        "        for j in neighs[1:]:\n",
        "            edge_index.append([i, j])\n",
        "    edge_index = torch.tensor(edge_index, dtype=torch.long).t().contiguous()\n",
        "\n",
        "    # features\n",
        "    x = torch.tensor(features, dtype=torch.float)\n",
        "\n",
        "    # labels (optional)\n",
        "    y = None\n",
        "    if label_key is not None:\n",
        "        labels = adata.obs[label_key].values\n",
        "        if label_encoder is not None:\n",
        "            labels = label_encoder.transform(labels)\n",
        "        y = torch.tensor(labels, dtype=torch.long)\n",
        "\n",
        "    return Data(x=x, edge_index=edge_index, y=y)\n",
        "\n",
        "\n",
        "from sklearn.preprocessing import LabelEncoder\n",
        "import numpy as np\n",
        "\n",
        "def make_label_encoder(adata_train, adata_test, label_key):\n",
        "    # take all labels from both datasets\n",
        "    all_labels = np.concatenate([adata_train.obs[label_key].values,\n",
        "                                 adata_test.obs[label_key].values])\n",
        "    le = LabelEncoder()\n",
        "    le.fit(all_labels)\n",
        "    return le\n",
        "\n",
        "\n",
        "le = make_label_encoder(adata_train, adata_test, label_key)\n",
        "\n",
        "\n",
        "train_data = build_knn_graph(adata_train, k=5, feature_key=\"raw\", label_key=label_key, label_encoder=le)\n",
        "test_data = build_knn_graph(adata_test, k=5, feature_key=\"raw\", label_key=label_key, label_encoder=le)\n",
        "\n",
        "\n",
        "import torch\n",
        "import torch.nn.functional as F\n",
        "from torch_geometric.nn import GINConv\n",
        "from torch_geometric.loader import NeighborLoader\n",
        "from torch.nn import Linear, Sequential, ReLU\n",
        "\n",
        "# --- Define GIN ---\n",
        "class GIN(torch.nn.Module):\n",
        "    def __init__(self, in_channels, hidden_channels, out_channels):\n",
        "        super().__init__()\n",
        "        nn1 = Sequential(Linear(in_channels, hidden_channels), ReLU(), Linear(hidden_channels, hidden_channels))\n",
        "        nn2 = Sequential(Linear(hidden_channels, hidden_channels), ReLU(), Linear(hidden_channels, hidden_channels))\n",
        "        self.conv1 = GINConv(nn1)\n",
        "        self.conv2 = GINConv(nn2)\n",
        "        self.lin = Linear(hidden_channels, out_channels)\n",
        "\n",
        "    def forward(self, x, edge_index):\n",
        "        x = self.conv1(x, edge_index)\n",
        "        x = F.relu(x)\n",
        "        x = self.conv2(x, edge_index)\n",
        "        x = self.lin(x)\n",
        "        return x\n",
        "\n",
        "# --- Build loaders ---\n",
        "train_loader = NeighborLoader(\n",
        "    train_data,\n",
        "    num_neighbors=[15, 10],\n",
        "    batch_size=128,\n",
        "    shuffle=True\n",
        ")\n",
        "\n",
        "test_loader = NeighborLoader(\n",
        "    test_data,\n",
        "    num_neighbors=[15, 10],\n",
        "    batch_size=128,\n",
        "    shuffle=False\n",
        ")\n",
        "\n",
        "\n",
        "# --- Setup ---\n",
        "device = torch.device(\"cuda\" if torch.cuda.is_available() else \"cpu\")\n",
        "model = GIN(train_data.num_node_features, 64, train_data.y.max().item()+1).to(device)\n",
        "optimizer = torch.optim.Adam(model.parameters(), lr=0.01)\n",
        "\n",
        "start = time.time()\n",
        "# --- Training ---\n",
        "for epoch in range(20):\n",
        "    model.train()\n",
        "    total_loss = 0\n",
        "    for batch in train_loader:\n",
        "        batch = batch.to(device)\n",
        "        optimizer.zero_grad()\n",
        "        out = model(batch.x, batch.edge_index)\n",
        "        # ✅ Only compute loss on seed nodes\n",
        "        loss = F.cross_entropy(out[:batch.batch_size], batch.y[:batch.batch_size])\n",
        "        loss.backward()\n",
        "        optimizer.step()\n",
        "        total_loss += loss.item()\n",
        "    print(f\"Epoch {epoch}, Loss: {total_loss/len(train_loader):.4f}\")\n",
        "\n",
        "end=time.time()\n",
        "taken = end-start\n",
        "print(\"training taken seconds: \"+str(taken))\n",
        "\n",
        "\n",
        "from sklearn.metrics import classification_report, confusion_matrix, f1_score, accuracy_score\n",
        "\n",
        "all_preds = []\n",
        "all_labels = []\n",
        "\n",
        "model.eval()\n",
        "with torch.no_grad():\n",
        "    for batch in test_loader:\n",
        "        batch = batch.to(device)\n",
        "\n",
        "        out = model(batch.x, batch.edge_index)  # logits\n",
        "        preds = out[:batch.batch_size].argmax(dim=1).cpu().numpy()\n",
        "        labels = batch.y[:batch.batch_size].cpu().numpy()\n",
        "\n",
        "        all_preds.extend(preds)\n",
        "        all_labels.extend(labels)\n",
        "\n",
        "# Now compute metrics\n",
        "print(\"Accuracy:\", accuracy_score(all_labels, all_preds))\n",
        "# print(\"F1-score (macro):\", f1_score(all_labels, all_preds, average=\"macro\"))\n",
        "# print(\"F1-score (weighted):\", f1_score(all_labels, all_preds, average=\"weighted\"))\n",
        "print(\"\\nClassification report:\\n\", classification_report(all_labels, all_preds, zero_division=0))"
      ],
      "metadata": {
        "colab": {
          "base_uri": "https://localhost:8080/"
        },
        "id": "J3axehrHL7M2",
        "outputId": "475c6ae0-e1c8-42fc-f601-ca72d5d29e88"
      },
      "execution_count": null,
      "outputs": [
        {
          "output_type": "stream",
          "name": "stdout",
          "text": [
            "Epoch 0, Loss: 0.4436\n",
            "Epoch 1, Loss: 0.2802\n",
            "Epoch 2, Loss: 0.2736\n",
            "Epoch 3, Loss: 0.2702\n",
            "Epoch 4, Loss: 0.2808\n",
            "Epoch 5, Loss: 0.5729\n",
            "Epoch 6, Loss: 0.4105\n",
            "Epoch 7, Loss: 0.3780\n",
            "Epoch 8, Loss: 0.3676\n",
            "Epoch 9, Loss: 0.3406\n",
            "Epoch 10, Loss: 0.3434\n",
            "Epoch 11, Loss: 0.3705\n",
            "Epoch 12, Loss: 0.3672\n",
            "Epoch 13, Loss: 0.3475\n",
            "Epoch 14, Loss: 0.3615\n",
            "Epoch 15, Loss: 0.4131\n",
            "Epoch 16, Loss: 0.3455\n",
            "Epoch 17, Loss: 0.3277\n",
            "Epoch 18, Loss: 0.3328\n",
            "Epoch 19, Loss: 0.3981\n",
            "training taken seconds: 462.24536061286926\n",
            "Accuracy: 0.7624764495661651\n",
            "\n",
            "Classification report:\n",
            "               precision    recall  f1-score   support\n",
            "\n",
            "           0       0.65      0.92      0.76     30162\n",
            "           1       0.00      0.00      0.00       310\n",
            "           2       0.74      0.95      0.83     24134\n",
            "           3       0.38      0.70      0.49      1035\n",
            "           5       0.00      0.00      0.00         1\n",
            "           6       0.93      0.87      0.90      9780\n",
            "           7       0.85      0.86      0.86      6765\n",
            "           8       0.10      0.03      0.05      1804\n",
            "           9       0.94      0.97      0.95     25364\n",
            "          10       0.00      0.00      0.00      7198\n",
            "          11       0.00      0.00      0.00      8342\n",
            "          12       0.00      0.00      0.00      3468\n",
            "\n",
            "    accuracy                           0.76    118363\n",
            "   macro avg       0.38      0.44      0.40    118363\n",
            "weighted avg       0.65      0.76      0.70    118363\n",
            "\n"
          ]
        }
      ]
    },
    {
      "cell_type": "markdown",
      "source": [
        "#Nanostring Dataset"
      ],
      "metadata": {
        "id": "X9nQ1JsV4fxS"
      }
    },
    {
      "cell_type": "code",
      "source": [
        "# data source - train: https://drive.google.com/file/d/1p0VhWBAQjFCzAES0a9TeWqvc-DT2y5OA/view?usp=drive_link\n",
        "# data source - test: https://drive.google.com/file/d/1v1IJx74Lexii22jONGsuTUycY9iw99-x/view?usp=drive_link\n",
        "adata_train = anndata.read_h5ad(\"/content/drive/MyDrive/nanostring_cosmx_human_nsclc_batch1.h5ad\")\n",
        "adata_test = anndata.read_h5ad(\"/content/drive/MyDrive/nanostring_cosmx_human_nsclc_batch3.h5ad\")"
      ],
      "metadata": {
        "id": "tHZlZhOi4hCq"
      },
      "execution_count": null,
      "outputs": []
    },
    {
      "cell_type": "code",
      "source": [
        "np.shape(adata_train), np.shape(adata_test)"
      ],
      "metadata": {
        "colab": {
          "base_uri": "https://localhost:8080/"
        },
        "id": "xSkHWTHFIR4f",
        "outputId": "910fe75e-ce4e-4ed8-f0b3-a08f532e5414"
      },
      "execution_count": null,
      "outputs": [
        {
          "output_type": "execute_result",
          "data": {
            "text/plain": [
              "((93206, 960), (91691, 960))"
            ]
          },
          "metadata": {},
          "execution_count": 32
        }
      ]
    },
    {
      "cell_type": "code",
      "source": [
        "if sparse.issparse(adata_train.X):\n",
        "    adata_train.X = adata_train.X.tocsr().astype(np.float32)\n",
        "else:\n",
        "    X = np.asarray(adata_train.X, dtype=np.float32)\n",
        "    # Replace non-finite values\n",
        "    bad = ~np.isfinite(X)\n",
        "    if bad.any():\n",
        "        X[bad] = 0.0\n",
        "    adata_train.X = X\n",
        "if sparse.issparse(adata_test.X):\n",
        "    adata_test.X = adata_test.X.tocsr().astype(np.float32)\n",
        "else:\n",
        "    Xte = np.asarray(adata_test.X, dtype=np.float32)\n",
        "    Xte[~np.isfinite(Xte)] = 0.0\n",
        "    adata_test.X = Xte\n",
        "# do this so that google collab does not crash"
      ],
      "metadata": {
        "id": "e5iHYglE-N-0"
      },
      "execution_count": null,
      "outputs": []
    },
    {
      "cell_type": "code",
      "source": [
        "key = 'niche'\n",
        "cell_type_counts = adata_train.obs[key].value_counts()\n",
        "plt.figure(figsize=(6, 3))\n",
        "cell_type_counts.plot(kind='bar', color='skyblue')\n",
        "plt.title(\"Cell Type Distribution\")\n",
        "plt.xlabel(\"Cell Type\")\n",
        "plt.ylabel(\"Count\")\n",
        "plt.xticks(rotation=45, ha=\"right\")\n",
        "plt.tight_layout()\n",
        "plt.show()"
      ],
      "metadata": {
        "colab": {
          "base_uri": "https://localhost:8080/",
          "height": 307
        },
        "id": "POPW-AnG8Dqj",
        "outputId": "56f5599e-a4f5-4a40-97bc-52afa3de7e8e"
      },
      "execution_count": null,
      "outputs": [
        {
          "output_type": "display_data",
          "data": {
            "text/plain": [
              "<Figure size 600x300 with 1 Axes>"
            ],
            "image/png": "[encoded data removed]"
          },
          "metadata": {}
        }
      ]
    },
    {
      "cell_type": "code",
      "source": [
        "adata_train = SelfGraphConv(adata_train)\n",
        "adata_test = SelfGraphConv(adata_test)"
      ],
      "metadata": {
        "id": "sx1k7qhc8H89"
      },
      "execution_count": null,
      "outputs": []
    },
    {
      "cell_type": "code",
      "source": [
        "sc.pp.normalize_total(adata_train, target_sum=1e4)\n",
        "sc.pp.log1p(adata_train)\n",
        "\n",
        "sc.pp.normalize_total(adata_test, target_sum=1e4)\n",
        "sc.pp.log1p(adata_test)"
      ],
      "metadata": {
        "colab": {
          "base_uri": "https://localhost:8080/"
        },
        "id": "C-SnVc3E8q7F",
        "outputId": "fc05d84f-88e8-4ad8-85ac-3ce2491bb8ee"
      },
      "execution_count": null,
      "outputs": [
        {
          "output_type": "stream",
          "name": "stdout",
          "text": [
            "WARNING: adata.X seems to be already log-transformed.\n",
            "WARNING: adata.X seems to be already log-transformed.\n"
          ]
        }
      ]
    },
    {
      "cell_type": "markdown",
      "source": [
        "##CellTypist Method"
      ],
      "metadata": {
        "id": "348T7wy98v42"
      }
    },
    {
      "cell_type": "code",
      "source": [
        "start = time.time()\n",
        "my_model = celltypist.train(adata_train, key,alpha=1/(C*len(adata_train)), feature_selection=False, check_expression = True,use_SGD = True,mini_batch = True, batch_size=batch_size, batch_number=100)\n",
        "end=time.time()\n",
        "taken = end-start\n",
        "print(\"training taken seconds: \"+str(taken))\n",
        "\n",
        "start = time.time()\n",
        "predictions = celltypist.annotate(adata_test, model = my_model,majority_voting = False,mode = 'best match')\n",
        "end = time.time()\n",
        "taken = end-start\n",
        "print(\"testing taken seconds: \"+str(taken))\n",
        "\n",
        "predicted_labels = predictions.predicted_labels.values\n",
        "true_labels = adata_test.obs[key]\n",
        "accuracy = accuracy_score(true_labels, predicted_labels)\n",
        "print(\"Accuracy:\", accuracy)\n",
        "\n",
        "print(classification_report(true_labels, predicted_labels))"
      ],
      "metadata": {
        "colab": {
          "base_uri": "https://localhost:8080/"
        },
        "id": "MVdMl5Fu8L8k",
        "outputId": "cbbc687a-7628-49cc-aed6-26512355f7a3"
      },
      "execution_count": null,
      "outputs": [
        {
          "output_type": "stream",
          "name": "stdout",
          "text": [
            "training taken seconds: 98.80811810493469\n",
            "testing taken seconds: 3.2596981525421143\n",
            "Accuracy: 0.6081294783566544\n",
            "                             precision    recall  f1-score   support\n",
            "\n",
            "                     immune       0.00      0.00      0.00       292\n",
            "         lymphoid structure       0.83      0.71      0.77     21050\n",
            "                macrophages       0.00      0.00      0.00         3\n",
            "    myeloid-enriched stroma       0.83      0.55      0.66     18151\n",
            "                neutrophils       0.21      0.07      0.10       882\n",
            "plasmablast-enriched stroma       0.52      0.31      0.39      7867\n",
            "                     stroma       0.41      0.77      0.54     22099\n",
            "             tumor interior       0.83      0.70      0.76     13307\n",
            "      tumor-stroma boundary       0.47      0.25      0.33      8040\n",
            "\n",
            "                   accuracy                           0.61     91691\n",
            "                  macro avg       0.46      0.37      0.39     91691\n",
            "               weighted avg       0.66      0.61      0.61     91691\n",
            "\n"
          ]
        }
      ]
    },
    {
      "cell_type": "code",
      "source": [
        "y_refine = cKD_refine_label(np.array(adata_test.obsm['spatial']), predicted_labels, k = 50)\n",
        "print(\"Accuracy:\", accuracy_score(y_refine, true_labels))\n",
        "print(classification_report(y_refine, predicted_labels))"
      ],
      "metadata": {
        "colab": {
          "base_uri": "https://localhost:8080/"
        },
        "id": "RA63fLTeDaW3",
        "outputId": "ce766bd5-32cd-4646-8e0e-9a217885fd40"
      },
      "execution_count": null,
      "outputs": [
        {
          "output_type": "stream",
          "name": "stdout",
          "text": [
            "Accuracy: 0.6895224176854872\n",
            "                             precision    recall  f1-score   support\n",
            "\n",
            "         lymphoid structure       0.82      0.80      0.81     18544\n",
            "    myeloid-enriched stroma       0.73      0.72      0.72     11995\n",
            "                neutrophils       0.04      0.52      0.08        23\n",
            "plasmablast-enriched stroma       0.26      0.56      0.36      2215\n",
            "                     stroma       0.76      0.71      0.73     44125\n",
            "             tumor interior       0.87      0.75      0.81     12892\n",
            "      tumor-stroma boundary       0.22      0.50      0.31      1897\n",
            "\n",
            "                   accuracy                           0.73     91691\n",
            "                  macro avg       0.53      0.65      0.55     91691\n",
            "               weighted avg       0.76      0.73      0.74     91691\n",
            "\n"
          ]
        }
      ]
    },
    {
      "cell_type": "markdown",
      "source": [
        "##Coreset Log Reg Method"
      ],
      "metadata": {
        "id": "8Be9sFnm8zHV"
      }
    },
    {
      "cell_type": "code",
      "source": [
        "X_train = adata_train.X\n",
        "y_train = adata_train.obs[key]\n",
        "X_test = adata_test.X\n",
        "y_test = adata_test.obs[key]\n",
        "\n",
        "\n",
        "if sparse.issparse(X_train):\n",
        "    X_train = X_train.tocsr().astype(np.float32)\n",
        "else:\n",
        "    X = np.asarray(X_train, dtype=np.float32)\n",
        "    # Replace non-finite values\n",
        "    bad = ~np.isfinite(X)\n",
        "    if bad.any():\n",
        "        X[bad] = 0.0\n",
        "    X_train = X\n",
        "if sparse.issparse(X_test):\n",
        "    X_test = X_test.tocsr().astype(np.float32)\n",
        "else:\n",
        "    Xte = np.asarray(X_test, dtype=np.float32)\n",
        "    Xte[~np.isfinite(Xte)] = 0.0\n",
        "    X_test = Xte\n",
        "# do this so that google collab does not crash\n",
        "\n",
        "train_distribution = y_train.value_counts()\n",
        "test_distribution = y_test.value_counts()\n",
        "\n",
        "if not isinstance(X_train, csr_matrix):\n",
        "    X_train = csr_matrix(X_train)\n",
        "\n",
        "if not isinstance(X_test, csr_matrix):\n",
        "    X_test = csr_matrix(X_test)\n",
        "\n",
        "# Check for NaN values in X_train\n",
        "if np.isnan(X_train.toarray()).any():\n",
        "    logger.info(\"X_train contains NaN values.\")\n",
        "\n",
        "# Check for NaN values in y_train\n",
        "if y_train.isnull().any():\n",
        "    logger.info(\"y_train contains NaN values.\")\n",
        "\n",
        "coreset_ratio = [0.1]\n",
        "coreset_size = []\n",
        "for ratio in coreset_ratio:\n",
        "    size = int(ratio*(X_train.shape[0]))\n",
        "    coreset_size.append(size)\n",
        "\n",
        "num_unique_cell_types = len(cell_type_counts)\n",
        "\n",
        "for size in coreset_size:\n",
        "    num_per_cell_type = int(size/num_unique_cell_types)\n",
        "    # logger.info(\"for each cell type, we sample\")\n",
        "    # logger.info(num_per_cell_type)\n",
        "\n",
        "    # logger.info(\"begin sampling\")\n",
        "    start = time.time()\n",
        "    sampled_indices = celltypist.samples.downsample_adata(adata=adata_train, mode=\"each\",n_cells=num_per_cell_type, by=key, random_state=42, return_index=True)\n",
        "    #sampled_indices = np.random.choice(X_train.shape[0], size=size, replace=False)\n",
        "    sampled_X_train = X_train[sampled_indices, :]\n",
        "    sampled_y_train = y_train[sampled_indices]\n",
        "\n",
        "    if np.isnan(sampled_X_train.toarray()).any():\n",
        "        logger.info(\"X_train contains NaN values.\")\n",
        "    if sampled_y_train.isnull().any():\n",
        "        logger.info(\"y_train contains NaN values.\")\n",
        "\n",
        "    if sampled_y_train.nunique() < 2:\n",
        "        raise ValueError(\"y_train must contain at least two unique classes.\")\n",
        "\n",
        "    sampled_train_distribution = sampled_y_train.value_counts()\n",
        "\n",
        "    gene_names = adata_test.var_names #test data gene names\n",
        "    model_features = adata_train.var_names #train data gene names\n",
        "    y_pred, clf, X_test_scaled, le = run_pipeline(adata_test,sampled_X_train,X_train, sampled_y_train,y_train, X_test,y_test, gene_names, model_features, resolution=0.5, min_prop=0.2, C = 0.01)\n",
        "    print(\"Accuracy:\", accuracy_score(y_test, y_pred))\n",
        "    print(classification_report(y_test, y_pred))"
      ],
      "metadata": {
        "colab": {
          "base_uri": "https://localhost:8080/"
        },
        "id": "-CcMxKTo8lqy",
        "outputId": "7f9d1849-a6e5-4346-ba0b-150cb8f42907"
      },
      "execution_count": null,
      "outputs": [
        {
          "output_type": "stream",
          "name": "stdout",
          "text": [
            "training taken seconds: 5.516927719116211\n",
            "Accuracy: 0.6125464876596395\n",
            "                             precision    recall  f1-score   support\n",
            "\n",
            "                     immune       0.02      0.00      0.01       292\n",
            "         lymphoid structure       0.78      0.74      0.76     21050\n",
            "                macrophages       0.00      0.00      0.00         3\n",
            "    myeloid-enriched stroma       0.80      0.65      0.72     18151\n",
            "                neutrophils       0.08      0.42      0.14       882\n",
            "plasmablast-enriched stroma       0.33      0.54      0.41      7867\n",
            "                     stroma       0.60      0.49      0.54     22099\n",
            "             tumor interior       0.81      0.74      0.77     13307\n",
            "      tumor-stroma boundary       0.37      0.44      0.40      8040\n",
            "\n",
            "                   accuracy                           0.61     91691\n",
            "                  macro avg       0.42      0.45      0.42     91691\n",
            "               weighted avg       0.66      0.61      0.63     91691\n",
            "\n"
          ]
        }
      ]
    },
    {
      "cell_type": "code",
      "source": [
        "y_refine = cKD_refine_label(np.array(adata_test.obsm['spatial']), y_pred, k = 50)\n",
        "print(\"Accuracy:\", accuracy_score(y_refine, y_test))\n",
        "print(classification_report(y_refine, y_test))"
      ],
      "metadata": {
        "colab": {
          "base_uri": "https://localhost:8080/"
        },
        "id": "aqkmq6sw84aZ",
        "outputId": "8abc2140-aa8d-4286-fd39-3d20c8ff2746"
      },
      "execution_count": null,
      "outputs": [
        {
          "output_type": "stream",
          "name": "stdout",
          "text": [
            "Accuracy: 0.7681997142576698\n",
            "                             precision    recall  f1-score   support\n",
            "\n",
            "                     immune       0.00      0.00      0.00         0\n",
            "         lymphoid structure       0.89      0.86      0.88     21740\n",
            "                macrophages       0.00      0.00      0.00         0\n",
            "    myeloid-enriched stroma       0.87      0.88      0.88     17891\n",
            "                neutrophils       0.57      0.25      0.35      2000\n",
            "plasmablast-enriched stroma       0.77      0.48      0.59     12564\n",
            "                     stroma       0.59      0.82      0.68     15925\n",
            "             tumor interior       0.87      0.86      0.87     13464\n",
            "      tumor-stroma boundary       0.59      0.59      0.59      8107\n",
            "\n",
            "                   accuracy                           0.77     91691\n",
            "                  macro avg       0.57      0.53      0.54     91691\n",
            "               weighted avg       0.78      0.77      0.77     91691\n",
            "\n"
          ]
        }
      ]
    },
    {
      "cell_type": "markdown",
      "source": [
        "##Random Forest Method"
      ],
      "metadata": {
        "id": "Jbh6bwyfWZJO"
      }
    },
    {
      "cell_type": "code",
      "source": [
        "run_ML(adata_train, adata_test)"
      ],
      "metadata": {
        "colab": {
          "base_uri": "https://localhost:8080/",
          "height": 531,
          "referenced_widgets": [
            "e6bf6e764b9548438e03f53996295487",
            "2a2f69a963994ea48cea05a9a5812b20",
            "a4bd625ae01a46c589a433baa38d20a8",
            "91cfdf7ddfbb441c866a3b8ee62ae7d6",
            "b582f941ea3149209e62f30906464698",
            "c8dc9c31bbab4e45a51bc1d6831ee77a",
            "d08becbac3ff4e86b56e655602f71309",
            "2b41194eb217464e8a0f73742bbf07a5",
            "e3d4608ecad945028c4a620657a6992f",
            "2ab8a86d592c425e92b99c5791708205",
            "e8ab10eca0db44d69922496bc05b70ec"
          ]
        },
        "id": "qMIiAqzH9gPY",
        "outputId": "4bb87957-66d8-4219-d1c1-36e29f2feade"
      },
      "execution_count": null,
      "outputs": [
        {
          "output_type": "stream",
          "name": "stdout",
          "text": [
            "\n",
            "🚀 Training: Random Forest\n"
          ]
        },
        {
          "output_type": "display_data",
          "data": {
            "text/plain": [
              "Building Random Forest:   0%|          | 0/5 [00:00<?, ?it/s]"
            ],
            "application/vnd.jupyter.widget-view+json": {
              "version_major": 2,
              "version_minor": 0,
              "model_id": "e6bf6e764b9548438e03f53996295487"
            }
          },
          "metadata": {}
        },
        {
          "output_type": "stream",
          "name": "stdout",
          "text": [
            "  • 10/50 trees (this step: 125.5s)\n",
            "  • 20/50 trees (this step: 120.9s)\n",
            "  • 30/50 trees (this step: 122.0s)\n",
            "  • 40/50 trees (this step: 121.5s)\n",
            "  • 50/50 trees (this step: 121.5s)\n",
            "⏳ Total training time: 611.4s\n",
            "\n",
            "🔹 Random Forest Results:\n",
            "Accuracy: 0.667306496820844\n",
            "                             precision    recall  f1-score   support\n",
            "\n",
            "                     immune       0.00      0.00      0.00       292\n",
            "         lymphoid structure       0.82      0.73      0.77     21050\n",
            "                macrophages       0.00      0.00      0.00         3\n",
            "    myeloid-enriched stroma       0.77      0.74      0.75     18151\n",
            "                neutrophils       0.11      0.00      0.00       882\n",
            "plasmablast-enriched stroma       0.63      0.22      0.33      7867\n",
            "                     stroma       0.51      0.80      0.62     22099\n",
            "             tumor interior       0.77      0.85      0.81     13307\n",
            "      tumor-stroma boundary       0.52      0.22      0.31      8040\n",
            "\n",
            "                   accuracy                           0.67     91691\n",
            "                  macro avg       0.46      0.40      0.40     91691\n",
            "               weighted avg       0.68      0.67      0.65     91691\n",
            "\n"
          ]
        }
      ]
    },
    {
      "cell_type": "markdown",
      "source": [
        "##GIN Method"
      ],
      "metadata": {
        "id": "drAq5PMLY5_E"
      }
    },
    {
      "cell_type": "code",
      "source": [
        "# import torch\n",
        "# print(torch.__version__)\n",
        "# !pip install torch-scatter torch-sparse torch-cluster torch-spline-conv torch-geometric \\\n",
        "  # -f https://data.pyg.org/whl/torch-2.8.0+cu126.html\n",
        "\n",
        "import torch\n",
        "import torch_geometric\n",
        "from torch_geometric.loader import DataLoader\n",
        "\n",
        "print(\"Torch version:\", torch.__version__)\n",
        "print(\"PyG version:\", torch_geometric.__version__)\n",
        "print(\"✅ PyTorch Geometric successfully installed!\")"
      ],
      "metadata": {
        "id": "6cKNMcP5ZPLF"
      },
      "execution_count": null,
      "outputs": []
    },
    {
      "cell_type": "code",
      "source": [
        "adata_train.obsm['raw'] = adata_train.X\n",
        "adata_test.obsm['raw'] = adata_test.X\n",
        "\n",
        "label_key = 'niche'\n",
        "X_feature = 'raw'\n",
        "X_train = adata_train.obsm[X_feature]\n",
        "y_train = adata_train.obs[label_key]\n",
        "X_test = adata_test.obsm[X_feature]\n",
        "y_test = adata_test.obs[label_key]\n",
        "\n",
        "import torch\n",
        "import torch.nn.functional as F\n",
        "from torch_geometric.nn import GCNConv\n",
        "from torch_geometric.data import Data\n",
        "from sklearn.neighbors import NearestNeighbors\n",
        "import numpy as np\n",
        "def build_knn_graph(adata, k=10, feature_key=\"X_pca\", label_key=None, label_encoder=None):\n",
        "    coords = adata.obsm[\"spatial\"]\n",
        "\n",
        "    # pick features\n",
        "    if feature_key == \"raw\":\n",
        "        features = adata.X.toarray() if not isinstance(adata.X, np.ndarray) else adata.X\n",
        "    else:\n",
        "        features = adata.obsm[feature_key]\n",
        "\n",
        "    # build kNN graph\n",
        "    nbrs = NearestNeighbors(n_neighbors=k+1).fit(coords)\n",
        "    _, indices = nbrs.kneighbors(coords)\n",
        "    edge_index = []\n",
        "    for i, neighs in enumerate(indices):\n",
        "        for j in neighs[1:]:\n",
        "            edge_index.append([i, j])\n",
        "    edge_index = torch.tensor(edge_index, dtype=torch.long).t().contiguous()\n",
        "\n",
        "    # features\n",
        "    x = torch.tensor(features, dtype=torch.float)\n",
        "\n",
        "    # labels (optional)\n",
        "    y = None\n",
        "    if label_key is not None:\n",
        "        labels = adata.obs[label_key].values\n",
        "        if label_encoder is not None:\n",
        "            labels = label_encoder.transform(labels)\n",
        "        y = torch.tensor(labels, dtype=torch.long)\n",
        "\n",
        "    return Data(x=x, edge_index=edge_index, y=y)\n",
        "\n",
        "\n",
        "from sklearn.preprocessing import LabelEncoder\n",
        "import numpy as np\n",
        "\n",
        "def make_label_encoder(adata_train, adata_test, label_key):\n",
        "    # take all labels from both datasets\n",
        "    all_labels = np.concatenate([adata_train.obs[label_key].values,\n",
        "                                 adata_test.obs[label_key].values])\n",
        "    le = LabelEncoder()\n",
        "    le.fit(all_labels)\n",
        "    return le\n",
        "\n",
        "\n",
        "le = make_label_encoder(adata_train, adata_test, label_key)\n",
        "\n",
        "\n",
        "train_data = build_knn_graph(adata_train, k=5, feature_key=\"raw\", label_key=label_key, label_encoder=le)\n",
        "test_data = build_knn_graph(adata_test, k=5, feature_key=\"raw\", label_key=label_key, label_encoder=le)\n",
        "\n",
        "\n",
        "import torch\n",
        "import torch.nn.functional as F\n",
        "from torch_geometric.nn import GINConv\n",
        "from torch_geometric.loader import NeighborLoader\n",
        "from torch.nn import Linear, Sequential, ReLU\n",
        "\n",
        "# --- Define GIN ---\n",
        "class GIN(torch.nn.Module):\n",
        "    def __init__(self, in_channels, hidden_channels, out_channels):\n",
        "        super().__init__()\n",
        "        nn1 = Sequential(Linear(in_channels, hidden_channels), ReLU(), Linear(hidden_channels, hidden_channels))\n",
        "        nn2 = Sequential(Linear(hidden_channels, hidden_channels), ReLU(), Linear(hidden_channels, hidden_channels))\n",
        "        self.conv1 = GINConv(nn1)\n",
        "        self.conv2 = GINConv(nn2)\n",
        "        self.lin = Linear(hidden_channels, out_channels)\n",
        "\n",
        "    def forward(self, x, edge_index):\n",
        "        x = self.conv1(x, edge_index)\n",
        "        x = F.relu(x)\n",
        "        x = self.conv2(x, edge_index)\n",
        "        x = self.lin(x)\n",
        "        return x\n",
        "\n",
        "# --- Build loaders ---\n",
        "train_loader = NeighborLoader(\n",
        "    train_data,\n",
        "    num_neighbors=[15, 10],\n",
        "    batch_size=128,\n",
        "    shuffle=True\n",
        ")\n",
        "\n",
        "test_loader = NeighborLoader(\n",
        "    test_data,\n",
        "    num_neighbors=[15, 10],\n",
        "    batch_size=128,\n",
        "    shuffle=False\n",
        ")\n",
        "\n",
        "\n",
        "# --- Setup ---\n",
        "device = torch.device(\"cuda\" if torch.cuda.is_available() else \"cpu\")\n",
        "model = GIN(train_data.num_node_features, 64, train_data.y.max().item()+1).to(device)\n",
        "optimizer = torch.optim.Adam(model.parameters(), lr=0.01)\n",
        "\n",
        "start = time.time()\n",
        "# --- Training ---\n",
        "for epoch in range(20):\n",
        "    model.train()\n",
        "    total_loss = 0\n",
        "    for batch in train_loader:\n",
        "        batch = batch.to(device)\n",
        "        optimizer.zero_grad()\n",
        "        out = model(batch.x, batch.edge_index)\n",
        "        # ✅ Only compute loss on seed nodes\n",
        "        loss = F.cross_entropy(out[:batch.batch_size], batch.y[:batch.batch_size])\n",
        "        loss.backward()\n",
        "        optimizer.step()\n",
        "        total_loss += loss.item()\n",
        "    print(f\"Epoch {epoch}, Loss: {total_loss/len(train_loader):.4f}\")\n",
        "\n",
        "end=time.time()\n",
        "taken = end-start\n",
        "print(\"training taken seconds: \"+str(taken))\n",
        "\n",
        "\n",
        "from sklearn.metrics import classification_report, confusion_matrix, f1_score, accuracy_score\n",
        "\n",
        "all_preds = []\n",
        "all_labels = []\n",
        "\n",
        "model.eval()\n",
        "with torch.no_grad():\n",
        "    for batch in test_loader:\n",
        "        batch = batch.to(device)\n",
        "\n",
        "        out = model(batch.x, batch.edge_index)  # logits\n",
        "        preds = out[:batch.batch_size].argmax(dim=1).cpu().numpy()\n",
        "        labels = batch.y[:batch.batch_size].cpu().numpy()\n",
        "\n",
        "        all_preds.extend(preds)\n",
        "        all_labels.extend(labels)\n",
        "\n",
        "# Now compute metrics\n",
        "print(\"Accuracy:\", accuracy_score(all_labels, all_preds))\n",
        "# print(\"F1-score (macro):\", f1_score(all_labels, all_preds, average=\"macro\"))\n",
        "# print(\"F1-score (weighted):\", f1_score(all_labels, all_preds, average=\"weighted\"))\n",
        "print(\"\\nClassification report:\\n\", classification_report(all_labels, all_preds, zero_division=0))"
      ],
      "metadata": {
        "colab": {
          "base_uri": "https://localhost:8080/"
        },
        "id": "9E6ayfNtWbLk",
        "outputId": "bae7e7c9-037a-4f0c-8857-423f8b804fb9"
      },
      "execution_count": null,
      "outputs": [
        {
          "output_type": "stream",
          "name": "stdout",
          "text": [
            "Epoch 0, Loss: 1.0534\n",
            "Epoch 1, Loss: 0.7285\n",
            "Epoch 2, Loss: 0.6497\n",
            "Epoch 3, Loss: 0.6227\n",
            "Epoch 4, Loss: 0.5874\n",
            "Epoch 5, Loss: 0.5645\n",
            "Epoch 6, Loss: 0.6041\n",
            "Epoch 7, Loss: 0.6695\n",
            "Epoch 8, Loss: 0.5803\n",
            "Epoch 9, Loss: 0.5688\n",
            "Epoch 10, Loss: 0.5395\n",
            "Epoch 11, Loss: 0.5316\n",
            "Epoch 12, Loss: 0.5204\n",
            "Epoch 13, Loss: 0.5216\n",
            "Epoch 14, Loss: 0.5387\n",
            "Epoch 15, Loss: 0.7130\n",
            "Epoch 16, Loss: 0.6648\n",
            "Epoch 17, Loss: 0.6389\n",
            "Epoch 18, Loss: 0.6374\n",
            "Epoch 19, Loss: 0.6150\n",
            "training taken seconds: 443.4386639595032\n",
            "Accuracy: 0.651328919959429\n",
            "\n",
            "Classification report:\n",
            "               precision    recall  f1-score   support\n",
            "\n",
            "           0       0.00      0.00      0.00       292\n",
            "           1       0.83      0.78      0.80     21050\n",
            "           2       0.00      0.00      0.00         3\n",
            "           3       0.87      0.60      0.71     18151\n",
            "           4       0.00      0.00      0.00       882\n",
            "           5       0.46      0.41      0.43      7867\n",
            "           6       0.50      0.65      0.57     22099\n",
            "           7       0.75      0.90      0.82     13307\n",
            "           8       0.36      0.36      0.36      8040\n",
            "\n",
            "    accuracy                           0.65     91691\n",
            "   macro avg       0.42      0.41      0.41     91691\n",
            "weighted avg       0.67      0.65      0.65     91691\n",
            "\n"
          ]
        }
      ]
    },
    {
      "cell_type": "code",
      "source": [],
      "metadata": {
        "id": "U2W0Pjn6Y9So"
      },
      "execution_count": null,
      "outputs": []
    }
  ]
}